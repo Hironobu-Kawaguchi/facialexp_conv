{
  "nbformat": 4,
  "nbformat_minor": 0,
  "metadata": {
    "colab": {
      "name": "colab_facialexp_conv.ipynb",
      "version": "0.3.2",
      "provenance": [],
      "collapsed_sections": [],
      "toc_visible": true,
      "include_colab_link": true
    },
    "kernelspec": {
      "name": "python3",
      "display_name": "Python 3"
    },
    "accelerator": "GPU"
  },
  "cells": [
    {
      "cell_type": "markdown",
      "metadata": {
        "id": "view-in-github",
        "colab_type": "text"
      },
      "source": [
        "<a href=\"https://colab.research.google.com/github/Ichinon/facialexp_conv/blob/master/colab_facialexp_conv.ipynb\" target=\"_parent\"><img src=\"https://colab.research.google.com/assets/colab-badge.svg\" alt=\"Open In Colab\"/></a>"
      ]
    },
    {
      "metadata": {
        "id": "cwasgUCkHWlF",
        "colab_type": "text"
      },
      "cell_type": "markdown",
      "source": [
        "# facialexp_conv を Google Colaboratoryで実行する\n",
        "https://github.com/Ichinon/facialexp_conv"
      ]
    },
    {
      "metadata": {
        "id": "OH30ISLuWiTs",
        "colab_type": "text"
      },
      "cell_type": "markdown",
      "source": [
        "## Google Driveにマウント\n",
        "表示されたリンクからgoogleアカウントを選んで表示されるコードをコピーして貼り付け"
      ]
    },
    {
      "metadata": {
        "id": "JO3ejpo8HjMh",
        "colab_type": "code",
        "outputId": "292b887f-3f19-49ea-e3f9-5dab35ba67d1",
        "colab": {
          "base_uri": "https://localhost:8080/",
          "height": 34
        }
      },
      "cell_type": "code",
      "source": [
        "from google.colab import drive\n",
        "drive.mount('/content/drive')"
      ],
      "execution_count": 1,
      "outputs": [
        {
          "output_type": "stream",
          "text": [
            "Drive already mounted at /content/drive; to attempt to forcibly remount, call drive.mount(\"/content/drive\", force_remount=True).\n"
          ],
          "name": "stdout"
        }
      ]
    },
    {
      "metadata": {
        "id": "VuV5jRG0WsJ1",
        "colab_type": "code",
        "colab": {
          "base_uri": "https://localhost:8080/",
          "height": 34
        },
        "outputId": "08ec8867-2b34-4bec-b11f-d8e978f85caa"
      },
      "cell_type": "code",
      "source": [
        "%cd drive/My Drive/Colab Notebooks"
      ],
      "execution_count": 2,
      "outputs": [
        {
          "output_type": "stream",
          "text": [
            "/content/drive/My Drive/Colab Notebooks\n"
          ],
          "name": "stdout"
        }
      ]
    },
    {
      "metadata": {
        "id": "Tv7MNi5EHnUJ",
        "colab_type": "code",
        "outputId": "5b9679f2-1f1c-4499-8702-8421e61c48b3",
        "colab": {
          "base_uri": "https://localhost:8080/",
          "height": 136
        }
      },
      "cell_type": "code",
      "source": [
        "# 初回のみ実行\n",
        "!git clone https://github.com/Ichinon/facialexp_conv"
      ],
      "execution_count": 3,
      "outputs": [
        {
          "output_type": "stream",
          "text": [
            "Cloning into 'facialexp_conv'...\n",
            "remote: Enumerating objects: 28, done.\u001b[K\n",
            "remote: Counting objects:   3% (1/28)   \u001b[K\rremote: Counting objects:   7% (2/28)   \u001b[K\rremote: Counting objects:  10% (3/28)   \u001b[K\rremote: Counting objects:  14% (4/28)   \u001b[K\rremote: Counting objects:  17% (5/28)   \u001b[K\rremote: Counting objects:  21% (6/28)   \u001b[K\rremote: Counting objects:  25% (7/28)   \u001b[K\rremote: Counting objects:  28% (8/28)   \u001b[K\rremote: Counting objects:  32% (9/28)   \u001b[K\rremote: Counting objects:  35% (10/28)   \u001b[K\rremote: Counting objects:  39% (11/28)   \u001b[K\rremote: Counting objects:  42% (12/28)   \u001b[K\rremote: Counting objects:  46% (13/28)   \u001b[K\rremote: Counting objects:  50% (14/28)   \u001b[K\rremote: Counting objects:  53% (15/28)   \u001b[K\rremote: Counting objects:  57% (16/28)   \u001b[K\rremote: Counting objects:  60% (17/28)   \u001b[K\rremote: Counting objects:  64% (18/28)   \u001b[K\rremote: Counting objects:  67% (19/28)   \u001b[K\rremote: Counting objects:  71% (20/28)   \u001b[K\rremote: Counting objects:  75% (21/28)   \u001b[K\rremote: Counting objects:  78% (22/28)   \u001b[K\rremote: Counting objects:  82% (23/28)   \u001b[K\rremote: Counting objects:  85% (24/28)   \u001b[K\rremote: Counting objects:  89% (25/28)   \u001b[K\rremote: Counting objects:  92% (26/28)   \u001b[K\rremote: Counting objects:  96% (27/28)   \u001b[K\rremote: Counting objects: 100% (28/28)   \u001b[K\rremote: Counting objects: 100% (28/28), done.\u001b[K\n",
            "remote: Compressing objects: 100% (24/24), done.\u001b[K\n",
            "remote: Total 28 (delta 1), reused 24 (delta 0), pack-reused 0\u001b[K\n",
            "Unpacking objects: 100% (28/28), done.\n",
            "/content/drive/My Drive/Colab Notebooks/facialexp_conv\n"
          ],
          "name": "stdout"
        }
      ]
    },
    {
      "metadata": {
        "id": "bb12Fdt2joel",
        "colab_type": "code",
        "colab": {}
      },
      "cell_type": "code",
      "source": [
        "%cd facialexp_conv"
      ],
      "execution_count": 0,
      "outputs": []
    },
    {
      "metadata": {
        "id": "P2mKu7d4jxJS",
        "colab_type": "code",
        "colab": {
          "base_uri": "https://localhost:8080/",
          "height": 34
        },
        "outputId": "b23a23e2-1b28-4f00-beb0-5815912ac201"
      },
      "cell_type": "code",
      "source": [
        "!git pull"
      ],
      "execution_count": 33,
      "outputs": [
        {
          "output_type": "stream",
          "text": [
            "Already up to date.\n"
          ],
          "name": "stdout"
        }
      ]
    },
    {
      "metadata": {
        "id": "bkGXN-6BXd_S",
        "colab_type": "text"
      },
      "cell_type": "markdown",
      "source": [
        "## 学習済みモデル"
      ]
    },
    {
      "metadata": {
        "id": "yLSHMgJYh807",
        "colab_type": "code",
        "colab": {
          "base_uri": "https://localhost:8080/",
          "height": 1802
        },
        "outputId": "7d7617f8-4640-4345-bd14-0741e722c9f6"
      },
      "cell_type": "code",
      "source": [
        "!curl gdrive.sh | bash -s https://drive.google.com/open?id=1xCQE84BRIWyXZTk-YPVRznMWA1lA3ras"
      ],
      "execution_count": 26,
      "outputs": [
        {
          "output_type": "stream",
          "text": [
            "  % Total    % Received % Xferd  Average Speed   Time    Time     Time  Current\n",
            "                                 Dload  Upload   Total   Spent    Left  Speed\n",
            "\r  0     0    0     0    0     0      0      0 --:--:-- --:--:-- --:--:--     0\r  0     0    0     0    0     0      0      0 --:--:-- --:--:-- --:--:--     0\r100  2893  100  2893    0     0   9675      0 --:--:-- --:--:-- --:--:--  9643\n",
            "    \"status\": \"QUEUED\",\n",
            "    \"status\": \"QUEUED\",\n",
            "  \"percentDone\": 1,\n",
            "    \"status\": \"COUNTING\",\n",
            "  \"percentDone\": 1,\n",
            "    \"status\": \"COUNTING\",\n",
            "  \"percentDone\": 1,\n",
            "    \"status\": \"COUNTING\",\n",
            "  \"percentDone\": 1,\n",
            "    \"status\": \"COUNTING\",\n",
            "  \"percentDone\": 1,\n",
            "    \"status\": \"COUNTING\",\n",
            "  \"percentDone\": 1,\n",
            "    \"status\": \"COUNTING\",\n",
            "  \"percentDone\": 1,\n",
            "    \"status\": \"COUNTING\",\n",
            "  \"percentDone\": 1,\n",
            "    \"status\": \"COUNTING\",\n",
            "  \"percentDone\": 1,\n",
            "    \"status\": \"COUNTING\",\n",
            "  \"percentDone\": 1,\n",
            "    \"status\": \"COUNTING\",\n",
            "  \"percentDone\": 1,\n",
            "    \"status\": \"COUNTING\",\n",
            "  \"percentDone\": 1,\n",
            "    \"status\": \"COUNTING\",\n",
            "  \"percentDone\": 1,\n",
            "    \"status\": \"COUNTING\",\n",
            "  \"percentDone\": 15,\n",
            "    \"status\": \"BUILDING\",\n",
            "  \"percentDone\": 15,\n",
            "    \"status\": \"BUILDING\",\n",
            "  \"percentDone\": 15,\n",
            "    \"status\": \"BUILDING\",\n",
            "  \"percentDone\": 15,\n",
            "    \"status\": \"BUILDING\",\n",
            "  \"percentDone\": 15,\n",
            "    \"status\": \"BUILDING\",\n",
            "  \"percentDone\": 15,\n",
            "    \"status\": \"BUILDING\",\n",
            "  \"percentDone\": 15,\n",
            "    \"status\": \"BUILDING\",\n",
            "  \"percentDone\": 15,\n",
            "    \"status\": \"BUILDING\",\n",
            "  \"percentDone\": 15,\n",
            "    \"status\": \"BUILDING\",\n",
            "  \"percentDone\": 15,\n",
            "    \"status\": \"BUILDING\",\n",
            "  \"percentDone\": 15,\n",
            "    \"status\": \"BUILDING\",\n",
            "  \"percentDone\": 15,\n",
            "    \"status\": \"BUILDING\",\n",
            "  \"percentDone\": 15,\n",
            "    \"status\": \"BUILDING\",\n",
            "  \"percentDone\": 15,\n",
            "    \"status\": \"BUILDING\",\n",
            "  \"percentDone\": 15,\n",
            "    \"status\": \"BUILDING\",\n",
            "  \"percentDone\": 15,\n",
            "    \"status\": \"BUILDING\",\n",
            "  \"percentDone\": 15,\n",
            "    \"status\": \"BUILDING\",\n",
            "  \"percentDone\": 15,\n",
            "    \"status\": \"BUILDING\",\n",
            "  \"percentDone\": 15,\n",
            "    \"status\": \"BUILDING\",\n",
            "  \"percentDone\": 15,\n",
            "    \"status\": \"BUILDING\",\n",
            "  \"percentDone\": 15,\n",
            "    \"status\": \"BUILDING\",\n",
            "  \"percentDone\": 15,\n",
            "    \"status\": \"BUILDING\",\n",
            "  \"percentDone\": 15,\n",
            "    \"status\": \"BUILDING\",\n",
            "  \"percentDone\": 15,\n",
            "    \"status\": \"BUILDING\",\n",
            "  \"percentDone\": 15,\n",
            "    \"status\": \"BUILDING\",\n",
            "  \"percentDone\": 15,\n",
            "    \"status\": \"BUILDING\",\n",
            "  \"percentDone\": 15,\n",
            "    \"status\": \"BUILDING\",\n",
            "  \"percentDone\": 15,\n",
            "    \"status\": \"BUILDING\",\n",
            "  \"percentDone\": 15,\n",
            "    \"status\": \"BUILDING\",\n",
            "  \"percentDone\": 15,\n",
            "    \"status\": \"BUILDING\",\n",
            "  \"percentDone\": 15,\n",
            "    \"status\": \"BUILDING\",\n",
            "  \"percentDone\": 15,\n",
            "    \"status\": \"BUILDING\",\n",
            "  \"percentDone\": 15,\n",
            "    \"status\": \"BUILDING\",\n",
            "  \"percentDone\": 100,\n",
            "    \"status\": \"SUCCEEDED\",\n",
            "  % Total    % Received % Xferd  Average Speed   Time    Time     Time  Current\n",
            "                                 Dload  Upload   Total   Spent    Left  Speed\n",
            "100  280M  100  280M    0     0  45.8M      0  0:00:06  0:00:06 --:--:-- 48.0M\n",
            "curl: Saved to filename 'takeout-20190303T075008Z-001.zip'\n",
            "Archive:  takeout-20190303T075008Z-001.zip\n",
            "  inflating: models.zip              \n"
          ],
          "name": "stdout"
        }
      ]
    },
    {
      "metadata": {
        "id": "fPMD7NAhcOsk",
        "colab_type": "code",
        "colab": {
          "base_uri": "https://localhost:8080/",
          "height": 136
        },
        "outputId": "5030dd2e-f412-42f5-90c0-271f36a883e0"
      },
      "cell_type": "code",
      "source": [
        "!unzip models"
      ],
      "execution_count": 28,
      "outputs": [
        {
          "output_type": "stream",
          "text": [
            "Archive:  models.zip\n",
            "   creating: models/\n",
            "   creating: models/emo2Img/\n",
            "  inflating: models/emo2Img/200000-D.ckpt  \n",
            "  inflating: models/emo2Img/200000-G.ckpt  \n",
            "   creating: models/txt2emo/\n",
            "  inflating: models/txt2emo/checkpoint-0.923.h5  \n"
          ],
          "name": "stdout"
        }
      ]
    },
    {
      "metadata": {
        "id": "uzG1s1E8L6US",
        "colab_type": "text"
      },
      "cell_type": "markdown",
      "source": [
        "## 実行（main.jpynb）\n",
        "2019.3.3現在"
      ]
    },
    {
      "metadata": {
        "id": "to-pj8OZJoCu",
        "colab_type": "code",
        "outputId": "1c961a1a-fa0c-4e4e-ecc5-43bf64c96296",
        "colab": {
          "base_uri": "https://localhost:8080/",
          "height": 2181
        }
      },
      "cell_type": "code",
      "source": [
        "#################\n",
        "#   テキスト ⇒ 画像生成    #\n",
        "#################\n",
        "\n",
        "####テキスト→感情####\n",
        "\n",
        "import time\n",
        "from keras.models import load_model\n",
        "from sklearn.metrics import classification_report, confusion_matrix\n",
        "from keras.preprocessing.sequence import pad_sequences\n",
        "import matplotlib.pyplot as plt\n",
        "import numpy as np\n",
        "%config InlineBackend.figure_format = 'retina'\n",
        "import itertools, pickle\n",
        "from PIL import Image\n",
        "\n",
        "t1 = time.time() \n",
        "\n",
        "MAX_SEQUENCE_LENGTH = 30 # max length of text (words) including padding\n",
        "\n",
        "with open('src/tec/tokenizer.pickle', 'rb') as handle:\n",
        "    tokenizer = pickle.load(handle)\n",
        "classes = [\"neutral\", \"happy\", \"sad\", \"hate\",\"anger\"]\n",
        "    \n",
        "##入力##    \n",
        "text = ['Very good!!']\n",
        "# text = ['Is not it useless?','very good!!', \"I don't feel well today.\", \"A triplet was born.\"]\n",
        "img_path = \"inp/test/neu/Carlos_Ghosn_0002.jpg\"\n",
        "\n",
        "model = load_model('models/txt2emo/checkpoint-0.923.h5')\n",
        "\n",
        "sequences_test = tokenizer.texts_to_sequences(text)\n",
        "data_int_t = pad_sequences(sequences_test, padding='pre', maxlen=(MAX_SEQUENCE_LENGTH-5))\n",
        "data_test = pad_sequences(data_int_t, padding='post', maxlen=(MAX_SEQUENCE_LENGTH))\n",
        "y_prob = model.predict(data_test)\n",
        "pred = y_prob.argmax(axis=-1)[0]\n",
        "\n",
        "t2 = time.time() \n",
        "\n",
        "####感情→画像####\n",
        "%run -i src/stg/main.py --mode test --dataset RaFD --rafd_crop_size 256 --image_size 64 --c_dim 3 --selected_attrs neg neu pos --rafd_image_dir inp/test --model_save_dir models/emo2Img --result_dir res\n",
        "\n",
        "####結果表示####\n",
        "print('')\n",
        "print(\"％％％％％％結果％％％％％％\")\n",
        "print(\"入力文：\", text[0],\"-->感情推定結果：\",classes[pred],\"\\n\")\n",
        "\n",
        "from PIL import Image\n",
        "import matplotlib.pyplot as plt\n",
        "\n",
        "# 元画像\n",
        "img_inp = Image.open(img_path)\n",
        "plt.figure(figsize=(3, 2)) # figureの縦横の大きさ\n",
        "plt.title(\"Input\")\n",
        "plt.imshow(np.array(img_inp), 'gray')\n",
        "\n",
        "# 出力画像\n",
        "img_oup = Image.open(\"res/1-images.jpg\")\n",
        "imga = np.array(img_oup)\n",
        "imsize = 64\n",
        "\n",
        "plt.figure(figsize=(3, 2)) # figureの縦横の大きさ\n",
        "plt.title(\"Generate\")\n",
        "\n",
        "if pred == 0: # neutral\n",
        "    st = imsize*2\n",
        "    plt.imshow(imga[:, st:st+imsize])\n",
        "elif pred == 1: # happy\n",
        "    st = imsize*3\n",
        "    plt.imshow(imga[:, st:st+imsize])\n",
        "else: # sad, hate, anger\n",
        "    st = imsize\n",
        "    plt.imshow(imga[:, st:st+imsize])\n",
        "    \n",
        "t3 = time.time() \n",
        "t_t2e = t2-t1\n",
        "t_e2i = t3-t2\n",
        "t_tot = t3-t1\n",
        "\n",
        "print(f\"経過時間(text⇒emo)：{t_t2e}\")\n",
        "print(f\"経過時間(emo⇒img)：{t_e2i}\")\n",
        "print(f\"経過時間(total)：{t_tot}\")"
      ],
      "execution_count": 32,
      "outputs": [
        {
          "output_type": "stream",
          "text": [
            "Namespace(attr_path='data/celeba/list_attr_celeba.txt', batch_size=16, beta1=0.5, beta2=0.999, c2_dim=8, c_dim=3, celeba_crop_size=178, celeba_image_dir='data/celeba/images', d_conv_dim=64, d_lr=0.0001, d_repeat_num=6, dataset='RaFD', g_conv_dim=64, g_lr=0.0001, g_repeat_num=6, image_size=64, lambda_cls=1, lambda_gp=10, lambda_rec=10, log_dir='stargan/logs', log_step=10, lr_update_step=1000, mode='test', model_save_dir='models/emo2Img', model_save_step=10000, n_critic=5, num_iters=200000, num_iters_decay=100000, num_workers=1, rafd_crop_size=256, rafd_image_dir='inp/test', result_dir='res', resume_iters=None, sample_dir='stargan/samples', sample_step=1000, selected_attrs=['neg', 'neu', 'pos'], test_iters=200000, use_tensorboard=True)\n",
            "Generator(\n",
            "  (main): Sequential(\n",
            "    (0): Conv2d(6, 64, kernel_size=(7, 7), stride=(1, 1), padding=(3, 3), bias=False)\n",
            "    (1): InstanceNorm2d(64, eps=1e-05, momentum=0.1, affine=True, track_running_stats=True)\n",
            "    (2): ReLU(inplace)\n",
            "    (3): Conv2d(64, 128, kernel_size=(4, 4), stride=(2, 2), padding=(1, 1), bias=False)\n",
            "    (4): InstanceNorm2d(128, eps=1e-05, momentum=0.1, affine=True, track_running_stats=True)\n",
            "    (5): ReLU(inplace)\n",
            "    (6): Conv2d(128, 256, kernel_size=(4, 4), stride=(2, 2), padding=(1, 1), bias=False)\n",
            "    (7): InstanceNorm2d(256, eps=1e-05, momentum=0.1, affine=True, track_running_stats=True)\n",
            "    (8): ReLU(inplace)\n",
            "    (9): ResidualBlock(\n",
            "      (main): Sequential(\n",
            "        (0): Conv2d(256, 256, kernel_size=(3, 3), stride=(1, 1), padding=(1, 1), bias=False)\n",
            "        (1): InstanceNorm2d(256, eps=1e-05, momentum=0.1, affine=True, track_running_stats=True)\n",
            "        (2): ReLU(inplace)\n",
            "        (3): Conv2d(256, 256, kernel_size=(3, 3), stride=(1, 1), padding=(1, 1), bias=False)\n",
            "        (4): InstanceNorm2d(256, eps=1e-05, momentum=0.1, affine=True, track_running_stats=True)\n",
            "      )\n",
            "    )\n",
            "    (10): ResidualBlock(\n",
            "      (main): Sequential(\n",
            "        (0): Conv2d(256, 256, kernel_size=(3, 3), stride=(1, 1), padding=(1, 1), bias=False)\n",
            "        (1): InstanceNorm2d(256, eps=1e-05, momentum=0.1, affine=True, track_running_stats=True)\n",
            "        (2): ReLU(inplace)\n",
            "        (3): Conv2d(256, 256, kernel_size=(3, 3), stride=(1, 1), padding=(1, 1), bias=False)\n",
            "        (4): InstanceNorm2d(256, eps=1e-05, momentum=0.1, affine=True, track_running_stats=True)\n",
            "      )\n",
            "    )\n",
            "    (11): ResidualBlock(\n",
            "      (main): Sequential(\n",
            "        (0): Conv2d(256, 256, kernel_size=(3, 3), stride=(1, 1), padding=(1, 1), bias=False)\n",
            "        (1): InstanceNorm2d(256, eps=1e-05, momentum=0.1, affine=True, track_running_stats=True)\n",
            "        (2): ReLU(inplace)\n",
            "        (3): Conv2d(256, 256, kernel_size=(3, 3), stride=(1, 1), padding=(1, 1), bias=False)\n",
            "        (4): InstanceNorm2d(256, eps=1e-05, momentum=0.1, affine=True, track_running_stats=True)\n",
            "      )\n",
            "    )\n",
            "    (12): ResidualBlock(\n",
            "      (main): Sequential(\n",
            "        (0): Conv2d(256, 256, kernel_size=(3, 3), stride=(1, 1), padding=(1, 1), bias=False)\n",
            "        (1): InstanceNorm2d(256, eps=1e-05, momentum=0.1, affine=True, track_running_stats=True)\n",
            "        (2): ReLU(inplace)\n",
            "        (3): Conv2d(256, 256, kernel_size=(3, 3), stride=(1, 1), padding=(1, 1), bias=False)\n",
            "        (4): InstanceNorm2d(256, eps=1e-05, momentum=0.1, affine=True, track_running_stats=True)\n",
            "      )\n",
            "    )\n",
            "    (13): ResidualBlock(\n",
            "      (main): Sequential(\n",
            "        (0): Conv2d(256, 256, kernel_size=(3, 3), stride=(1, 1), padding=(1, 1), bias=False)\n",
            "        (1): InstanceNorm2d(256, eps=1e-05, momentum=0.1, affine=True, track_running_stats=True)\n",
            "        (2): ReLU(inplace)\n",
            "        (3): Conv2d(256, 256, kernel_size=(3, 3), stride=(1, 1), padding=(1, 1), bias=False)\n",
            "        (4): InstanceNorm2d(256, eps=1e-05, momentum=0.1, affine=True, track_running_stats=True)\n",
            "      )\n",
            "    )\n",
            "    (14): ResidualBlock(\n",
            "      (main): Sequential(\n",
            "        (0): Conv2d(256, 256, kernel_size=(3, 3), stride=(1, 1), padding=(1, 1), bias=False)\n",
            "        (1): InstanceNorm2d(256, eps=1e-05, momentum=0.1, affine=True, track_running_stats=True)\n",
            "        (2): ReLU(inplace)\n",
            "        (3): Conv2d(256, 256, kernel_size=(3, 3), stride=(1, 1), padding=(1, 1), bias=False)\n",
            "        (4): InstanceNorm2d(256, eps=1e-05, momentum=0.1, affine=True, track_running_stats=True)\n",
            "      )\n",
            "    )\n",
            "    (15): ConvTranspose2d(256, 128, kernel_size=(4, 4), stride=(2, 2), padding=(1, 1), bias=False)\n",
            "    (16): InstanceNorm2d(128, eps=1e-05, momentum=0.1, affine=True, track_running_stats=True)\n",
            "    (17): ReLU(inplace)\n",
            "    (18): ConvTranspose2d(128, 64, kernel_size=(4, 4), stride=(2, 2), padding=(1, 1), bias=False)\n",
            "    (19): InstanceNorm2d(64, eps=1e-05, momentum=0.1, affine=True, track_running_stats=True)\n",
            "    (20): ReLU(inplace)\n",
            "    (21): Conv2d(64, 3, kernel_size=(7, 7), stride=(1, 1), padding=(3, 3), bias=False)\n",
            "    (22): Tanh()\n",
            "  )\n",
            ")\n",
            "G\n",
            "The number of parameters: 8424256\n",
            "Discriminator(\n",
            "  (main): Sequential(\n",
            "    (0): Conv2d(3, 64, kernel_size=(4, 4), stride=(2, 2), padding=(1, 1))\n",
            "    (1): LeakyReLU(negative_slope=0.01)\n",
            "    (2): Conv2d(64, 128, kernel_size=(4, 4), stride=(2, 2), padding=(1, 1))\n",
            "    (3): LeakyReLU(negative_slope=0.01)\n",
            "    (4): Conv2d(128, 256, kernel_size=(4, 4), stride=(2, 2), padding=(1, 1))\n",
            "    (5): LeakyReLU(negative_slope=0.01)\n",
            "    (6): Conv2d(256, 512, kernel_size=(4, 4), stride=(2, 2), padding=(1, 1))\n",
            "    (7): LeakyReLU(negative_slope=0.01)\n",
            "    (8): Conv2d(512, 1024, kernel_size=(4, 4), stride=(2, 2), padding=(1, 1))\n",
            "    (9): LeakyReLU(negative_slope=0.01)\n",
            "    (10): Conv2d(1024, 2048, kernel_size=(4, 4), stride=(2, 2), padding=(1, 1))\n",
            "    (11): LeakyReLU(negative_slope=0.01)\n",
            "  )\n",
            "  (conv1): Conv2d(2048, 1, kernel_size=(3, 3), stride=(1, 1), padding=(1, 1), bias=False)\n",
            "  (conv2): Conv2d(2048, 3, kernel_size=(1, 1), stride=(1, 1), bias=False)\n",
            ")\n",
            "D\n",
            "The number of parameters: 44727232\n",
            "Loading the trained models from step 200000...\n",
            "Saved real and fake images into res/1-images.jpg...\n",
            "\n",
            "％％％％％％結果％％％％％％\n",
            "入力文： Very good!! -->感情推定結果： happy \n",
            "\n",
            "経過時間(text⇒emo)：15.878977060317993\n",
            "経過時間(emo⇒img)：1.080763816833496\n",
            "経過時間(total)：16.95974087715149\n"
          ],
          "name": "stdout"
        },
        {
          "output_type": "display_data",
          "data": {
            "text/plain": [
              "<Figure size 576x396 with 0 Axes>"
            ]
          },
          "metadata": {
            "tags": []
          }
        },
        {
          "output_type": "display_data",
          "data": {
            "image/png": "[encoded data removed]",
            "text/plain": [
              "<Figure size 216x144 with 1 Axes>"
            ]
          },
          "metadata": {
            "tags": [],
            "image/png": {
              "width": 146,
              "height": 154
            }
          }
        },
        {
          "output_type": "display_data",
          "data": {
            "image/png": "[encoded data removed]",
            "text/plain": [
              "<Figure size 216x144 with 1 Axes>"
            ]
          },
          "metadata": {
            "tags": [],
            "image/png": {
              "width": 141,
              "height": 154
            }
          }
        }
      ]
    },
    {
      "metadata": {
        "id": "-NWpSizeOBcQ",
        "colab_type": "code",
        "colab": {}
      },
      "cell_type": "code",
      "source": [
        ""
      ],
      "execution_count": 0,
      "outputs": []
    }
  ]
}