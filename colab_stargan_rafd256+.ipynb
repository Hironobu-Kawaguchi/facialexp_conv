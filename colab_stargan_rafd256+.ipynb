{
  "nbformat": 4,
  "nbformat_minor": 0,
  "metadata": {
    "colab": {
      "name": "colab_stargan_rafd256+.ipynb",
      "version": "0.3.2",
      "provenance": [],
      "collapsed_sections": [],
      "toc_visible": true,
      "include_colab_link": true
    },
    "kernelspec": {
      "name": "python3",
      "display_name": "Python 3"
    },
    "accelerator": "GPU"
  },
  "cells": [
    {
      "cell_type": "markdown",
      "metadata": {
        "id": "view-in-github",
        "colab_type": "text"
      },
      "source": [
        "<a href=\"https://colab.research.google.com/github/Ichinon/facialexp_conv/blob/master/colab_stargan_rafd256%2B.ipynb\" target=\"_parent\"><img src=\"https://colab.research.google.com/assets/colab-badge.svg\" alt=\"Open In Colab\"/></a>"
      ]
    },
    {
      "metadata": {
        "id": "cwasgUCkHWlF",
        "colab_type": "text"
      },
      "cell_type": "markdown",
      "source": [
        "# StarGAN の学習を Google Colaboratoryで実行する\n",
        "https://github.com/yunjey/stargan\n",
        "rafd 256x256"
      ]
    },
    {
      "metadata": {
        "id": "OH30ISLuWiTs",
        "colab_type": "text"
      },
      "cell_type": "markdown",
      "source": [
        "## Google Driveにマウント\n",
        "表示されたリンクからgoogleアカウントを選んで表示されるコードをコピーして貼り付け"
      ]
    },
    {
      "metadata": {
        "id": "JO3ejpo8HjMh",
        "colab_type": "code",
        "outputId": "abf3ddb4-947c-4b29-a13c-9a04726605dc",
        "colab": {
          "base_uri": "https://localhost:8080/",
          "height": 122
        }
      },
      "cell_type": "code",
      "source": [
        "from google.colab import drive\n",
        "drive.mount('/content/drive')"
      ],
      "execution_count": 0,
      "outputs": [
        {
          "output_type": "stream",
          "text": [
            "Go to this URL in a browser: https://accounts.google.com/o/oauth2/auth?client_id=947318989803-6bn6qk8qdgf4n4g3pfee6491hc0brc4i.apps.googleusercontent.com&redirect_uri=urn%3Aietf%3Awg%3Aoauth%3A2.0%3Aoob&scope=email%20https%3A%2F%2Fwww.googleapis.com%2Fauth%2Fdocs.test%20https%3A%2F%2Fwww.googleapis.com%2Fauth%2Fdrive%20https%3A%2F%2Fwww.googleapis.com%2Fauth%2Fdrive.photos.readonly%20https%3A%2F%2Fwww.googleapis.com%2Fauth%2Fpeopleapi.readonly&response_type=code\n",
            "\n",
            "Enter your authorization code:\n",
            "··········\n",
            "Mounted at /content/drive\n"
          ],
          "name": "stdout"
        }
      ]
    },
    {
      "metadata": {
        "id": "VuV5jRG0WsJ1",
        "colab_type": "code",
        "outputId": "8d95d3d9-38e4-4491-d3df-acd2878edffe",
        "colab": {
          "base_uri": "https://localhost:8080/",
          "height": 34
        }
      },
      "cell_type": "code",
      "source": [
        "%cd drive/My Drive/Colab Notebooks"
      ],
      "execution_count": 0,
      "outputs": [
        {
          "output_type": "stream",
          "text": [
            "/content/drive/My Drive/Colab Notebooks\n"
          ],
          "name": "stdout"
        }
      ]
    },
    {
      "metadata": {
        "id": "Tv7MNi5EHnUJ",
        "colab_type": "code",
        "colab": {}
      },
      "cell_type": "code",
      "source": [
        "!git clone https://github.com/yunjey/stargan"
      ],
      "execution_count": 0,
      "outputs": []
    },
    {
      "metadata": {
        "id": "bb12Fdt2joel",
        "colab_type": "code",
        "outputId": "14a85da3-bcd0-420e-b75f-2489c174c880",
        "colab": {
          "base_uri": "https://localhost:8080/",
          "height": 34
        }
      },
      "cell_type": "code",
      "source": [
        "%cd stargan"
      ],
      "execution_count": 0,
      "outputs": [
        {
          "output_type": "stream",
          "text": [
            "/content/drive/My Drive/Colab Notebooks/stargan\n"
          ],
          "name": "stdout"
        }
      ]
    },
    {
      "metadata": {
        "id": "P2mKu7d4jxJS",
        "colab_type": "code",
        "outputId": "da5329dc-a90f-4e76-ca6f-0a85327a9cfe",
        "colab": {
          "base_uri": "https://localhost:8080/",
          "height": 34
        }
      },
      "cell_type": "code",
      "source": [
        "!git pull"
      ],
      "execution_count": 0,
      "outputs": [
        {
          "output_type": "stream",
          "text": [
            "Already up to date.\n"
          ],
          "name": "stdout"
        }
      ]
    },
    {
      "metadata": {
        "id": "y9a3uwuXGo1z",
        "colab_type": "code",
        "outputId": "c5c82a5a-7093-48f6-b766-0f3fe592fe76",
        "colab": {
          "base_uri": "https://localhost:8080/",
          "height": 34
        }
      },
      "cell_type": "code",
      "source": [
        "%cd /content"
      ],
      "execution_count": 0,
      "outputs": [
        {
          "output_type": "stream",
          "text": [
            "/content\n"
          ],
          "name": "stdout"
        }
      ]
    },
    {
      "metadata": {
        "colab_type": "code",
        "id": "lU0L_7mHGmrb",
        "outputId": "9151c17b-04ab-47b4-92bb-8f6c40ed945d",
        "colab": {
          "base_uri": "https://localhost:8080/",
          "height": 136
        }
      },
      "cell_type": "code",
      "source": [
        "!git clone https://github.com/yunjey/stargan"
      ],
      "execution_count": 0,
      "outputs": [
        {
          "output_type": "stream",
          "text": [
            "Cloning into 'stargan'...\n",
            "remote: Enumerating objects: 4, done.\u001b[K\n",
            "remote: Counting objects: 100% (4/4), done.\u001b[K\n",
            "remote: Compressing objects: 100% (4/4), done.\u001b[K\n",
            "remote: Total 138 (delta 0), reused 4 (delta 0), pack-reused 134\u001b[K\n",
            "Receiving objects: 100% (138/138), 13.75 MiB | 27.94 MiB/s, done.\n",
            "Resolving deltas: 100% (62/62), done.\n"
          ],
          "name": "stdout"
        }
      ]
    },
    {
      "metadata": {
        "colab_type": "code",
        "id": "yZgfJ_-uGmre",
        "outputId": "eb0435e4-5f55-4857-fb54-fbb8eb4f599a",
        "colab": {
          "base_uri": "https://localhost:8080/",
          "height": 34
        }
      },
      "cell_type": "code",
      "source": [
        "%cd stargan"
      ],
      "execution_count": 0,
      "outputs": [
        {
          "output_type": "stream",
          "text": [
            "/content/stargan\n"
          ],
          "name": "stdout"
        }
      ]
    },
    {
      "metadata": {
        "colab_type": "code",
        "id": "51ElmtVFGmrh",
        "outputId": "3234ee95-a77b-4b18-b1c3-0fc65ae6e1d0",
        "colab": {
          "base_uri": "https://localhost:8080/",
          "height": 34
        }
      },
      "cell_type": "code",
      "source": [
        "!git pull"
      ],
      "execution_count": 0,
      "outputs": [
        {
          "output_type": "stream",
          "text": [
            "Already up to date.\n"
          ],
          "name": "stdout"
        }
      ]
    },
    {
      "metadata": {
        "id": "bkGXN-6BXd_S",
        "colab_type": "text"
      },
      "cell_type": "markdown",
      "source": [
        "## Dataset unzip\n",
        "stargan/data/ の下にカテゴリ別フォルダに画像を展開"
      ]
    },
    {
      "metadata": {
        "id": "fPMD7NAhcOsk",
        "colab_type": "code",
        "colab": {}
      },
      "cell_type": "code",
      "source": [
        "!unzip -q \"/content/drive/My Drive/public/dlb2018_team1/RaFD+ffhq_7class.zip\" -d data"
      ],
      "execution_count": 0,
      "outputs": []
    },
    {
      "metadata": {
        "id": "uzG1s1E8L6US",
        "colab_type": "text"
      },
      "cell_type": "markdown",
      "source": [
        "## 学習実行"
      ]
    },
    {
      "metadata": {
        "id": "to-pj8OZJoCu",
        "colab_type": "code",
        "colab": {}
      },
      "cell_type": "code",
      "source": [
        "!python main.py --mode train --dataset RaFD --rafd_image_dir data --image_size 256 --c_dim 7 \\\n",
        "                --sample_dir \"/content/drive/My Drive/Colab Notebooks/stargan/stargan_rafd_256/samples\" \\\n",
        "                --log_dir \"/content/drive/My Drive/Colab Notebooks/stargan/stargan_rafd_256/logs\" \\\n",
        "                --model_save_dir \"/content/drive/My Drive/Colab Notebooks/stargan/stargan_rafd_256/models\" \\\n",
        "                --result_dir \"/content/drive/My Drive/Colab Notebooks/stargan/stargan_rafd_256/results\" \\\n",
        "                 --log_step 100 --sample_step 1000 --model_save_step 1000"
      ],
      "execution_count": 0,
      "outputs": []
    },
    {
      "metadata": {
        "id": "A0sQigJKc1Uu",
        "colab_type": "text"
      },
      "cell_type": "markdown",
      "source": [
        "##途中から学習実行用"
      ]
    },
    {
      "metadata": {
        "id": "aIPqPSaWamnN",
        "colab_type": "code",
        "colab": {}
      },
      "cell_type": "code",
      "source": [
        "!python main.py --mode train --dataset RaFD --rafd_image_dir data --image_size 256 --c_dim 7 \\\n",
        "                 --sample_dir stargan_rafd_256/samples --log_dir stargan_rafd_256/logs \\\n",
        "                 --model_save_dir stargan_rafd_256/models --result_dir stargan_rafd_256/results \\\n",
        "                 --log_step 100 --sample_step 1000 --model_save_step 1000 --resume_iters 18000"
      ],
      "execution_count": 0,
      "outputs": []
    },
    {
      "metadata": {
        "id": "KFdDh3aQb50s",
        "colab_type": "code",
        "colab": {}
      },
      "cell_type": "code",
      "source": [
        "!python main.py --mode train --dataset RaFD --rafd_image_dir data --image_size 256 --c_dim 7 \\\n",
        "                 --sample_dir stargan_rafd_256/samples --log_dir stargan_rafd_256/logs \\\n",
        "                 --model_save_dir stargan_rafd_256/models --result_dir stargan_rafd_256/results \\\n",
        "                 --log_step 100 --sample_step 1000 --model_save_step 1000 --resume_iters 36000"
      ],
      "execution_count": 0,
      "outputs": []
    },
    {
      "metadata": {
        "id": "Ev8y2rhosAIH",
        "colab_type": "code",
        "colab": {}
      },
      "cell_type": "code",
      "source": [
        "!python main.py --mode train --dataset RaFD --rafd_image_dir data --image_size 256 --c_dim 7 \\\n",
        "                 --sample_dir stargan_rafd_256/samples --log_dir stargan_rafd_256/logs \\\n",
        "                 --model_save_dir stargan_rafd_256/models --result_dir stargan_rafd_256/results \\\n",
        "                 --log_step 100 --sample_step 1000 --model_save_step 1000 --resume_iters 53000"
      ],
      "execution_count": 0,
      "outputs": []
    },
    {
      "metadata": {
        "id": "oKqG58euR3oD",
        "colab_type": "code",
        "colab": {}
      },
      "cell_type": "code",
      "source": [
        "!python main.py --mode train --dataset RaFD --rafd_image_dir data --image_size 256 --c_dim 7 \\\n",
        "                 --sample_dir stargan_rafd_256/samples --log_dir stargan_rafd_256/logs \\\n",
        "                 --model_save_dir stargan_rafd_256/models --result_dir stargan_rafd_256/results \\\n",
        "                 --log_step 100 --sample_step 1000 --model_save_step 1000 --resume_iters 70000"
      ],
      "execution_count": 0,
      "outputs": []
    },
    {
      "metadata": {
        "id": "c4tD5B7e8VFe",
        "colab_type": "code",
        "colab": {}
      },
      "cell_type": "code",
      "source": [
        "!python main.py --mode train --dataset RaFD --rafd_image_dir data --image_size 256 --c_dim 7 \\\n",
        "                 --sample_dir stargan_rafd_256/samples --log_dir stargan_rafd_256/logs \\\n",
        "                 --model_save_dir stargan_rafd_256/models --result_dir stargan_rafd_256/results \\\n",
        "                 --log_step 100 --sample_step 1000 --model_save_step 1000 --resume_iters 86000"
      ],
      "execution_count": 0,
      "outputs": []
    },
    {
      "metadata": {
        "id": "sDrJoav_jruw",
        "colab_type": "code",
        "outputId": "75eb9e60-3f19-41be-cbd5-63f01345b5dd",
        "colab": {
          "base_uri": "https://localhost:8080/",
          "height": 5674
        }
      },
      "cell_type": "code",
      "source": [
        "!python main.py --mode train --dataset RaFD --rafd_image_dir data --image_size 256 --c_dim 7 \\\n",
        "                --sample_dir \"/content/drive/My Drive/Colab Notebooks/stargan/stargan_rafd_256/samples\" \\\n",
        "                --log_dir \"/content/drive/My Drive/Colab Notebooks/stargan/stargan_rafd_256/logs\" \\\n",
        "                --model_save_dir \"/content/drive/My Drive/Colab Notebooks/stargan/stargan_rafd_256/models\" \\\n",
        "                --result_dir \"/content/drive/My Drive/Colab Notebooks/stargan/stargan_rafd_256/results\" \\\n",
        "                 --log_step 100 --sample_step 1000 --model_save_step 1000 --resume_iters 102000"
      ],
      "execution_count": 0,
      "outputs": [
        {
          "output_type": "stream",
          "text": [
            "Namespace(attr_path='data/celeba/list_attr_celeba.txt', batch_size=16, beta1=0.5, beta2=0.999, c2_dim=8, c_dim=7, celeba_crop_size=178, celeba_image_dir='data/celeba/images', d_conv_dim=64, d_lr=0.0001, d_repeat_num=6, dataset='RaFD', g_conv_dim=64, g_lr=0.0001, g_repeat_num=6, image_size=256, lambda_cls=1, lambda_gp=10, lambda_rec=10, log_dir='/content/drive/My Drive/Colab Notebooks/stargan/stargan_rafd_256/logs', log_step=100, lr_update_step=1000, mode='train', model_save_dir='/content/drive/My Drive/Colab Notebooks/stargan/stargan_rafd_256/models', model_save_step=1000, n_critic=5, num_iters=200000, num_iters_decay=100000, num_workers=1, rafd_crop_size=256, rafd_image_dir='data', result_dir='/content/drive/My Drive/Colab Notebooks/stargan/stargan_rafd_256/results', resume_iters=102000, sample_dir='/content/drive/My Drive/Colab Notebooks/stargan/stargan_rafd_256/samples', sample_step=1000, selected_attrs=['Black_Hair', 'Blond_Hair', 'Brown_Hair', 'Male', 'Young'], test_iters=200000, use_tensorboard=True)\n",
            "Generator(\n",
            "  (main): Sequential(\n",
            "    (0): Conv2d(10, 64, kernel_size=(7, 7), stride=(1, 1), padding=(3, 3), bias=False)\n",
            "    (1): InstanceNorm2d(64, eps=1e-05, momentum=0.1, affine=True, track_running_stats=True)\n",
            "    (2): ReLU(inplace)\n",
            "    (3): Conv2d(64, 128, kernel_size=(4, 4), stride=(2, 2), padding=(1, 1), bias=False)\n",
            "    (4): InstanceNorm2d(128, eps=1e-05, momentum=0.1, affine=True, track_running_stats=True)\n",
            "    (5): ReLU(inplace)\n",
            "    (6): Conv2d(128, 256, kernel_size=(4, 4), stride=(2, 2), padding=(1, 1), bias=False)\n",
            "    (7): InstanceNorm2d(256, eps=1e-05, momentum=0.1, affine=True, track_running_stats=True)\n",
            "    (8): ReLU(inplace)\n",
            "    (9): ResidualBlock(\n",
            "      (main): Sequential(\n",
            "        (0): Conv2d(256, 256, kernel_size=(3, 3), stride=(1, 1), padding=(1, 1), bias=False)\n",
            "        (1): InstanceNorm2d(256, eps=1e-05, momentum=0.1, affine=True, track_running_stats=True)\n",
            "        (2): ReLU(inplace)\n",
            "        (3): Conv2d(256, 256, kernel_size=(3, 3), stride=(1, 1), padding=(1, 1), bias=False)\n",
            "        (4): InstanceNorm2d(256, eps=1e-05, momentum=0.1, affine=True, track_running_stats=True)\n",
            "      )\n",
            "    )\n",
            "    (10): ResidualBlock(\n",
            "      (main): Sequential(\n",
            "        (0): Conv2d(256, 256, kernel_size=(3, 3), stride=(1, 1), padding=(1, 1), bias=False)\n",
            "        (1): InstanceNorm2d(256, eps=1e-05, momentum=0.1, affine=True, track_running_stats=True)\n",
            "        (2): ReLU(inplace)\n",
            "        (3): Conv2d(256, 256, kernel_size=(3, 3), stride=(1, 1), padding=(1, 1), bias=False)\n",
            "        (4): InstanceNorm2d(256, eps=1e-05, momentum=0.1, affine=True, track_running_stats=True)\n",
            "      )\n",
            "    )\n",
            "    (11): ResidualBlock(\n",
            "      (main): Sequential(\n",
            "        (0): Conv2d(256, 256, kernel_size=(3, 3), stride=(1, 1), padding=(1, 1), bias=False)\n",
            "        (1): InstanceNorm2d(256, eps=1e-05, momentum=0.1, affine=True, track_running_stats=True)\n",
            "        (2): ReLU(inplace)\n",
            "        (3): Conv2d(256, 256, kernel_size=(3, 3), stride=(1, 1), padding=(1, 1), bias=False)\n",
            "        (4): InstanceNorm2d(256, eps=1e-05, momentum=0.1, affine=True, track_running_stats=True)\n",
            "      )\n",
            "    )\n",
            "    (12): ResidualBlock(\n",
            "      (main): Sequential(\n",
            "        (0): Conv2d(256, 256, kernel_size=(3, 3), stride=(1, 1), padding=(1, 1), bias=False)\n",
            "        (1): InstanceNorm2d(256, eps=1e-05, momentum=0.1, affine=True, track_running_stats=True)\n",
            "        (2): ReLU(inplace)\n",
            "        (3): Conv2d(256, 256, kernel_size=(3, 3), stride=(1, 1), padding=(1, 1), bias=False)\n",
            "        (4): InstanceNorm2d(256, eps=1e-05, momentum=0.1, affine=True, track_running_stats=True)\n",
            "      )\n",
            "    )\n",
            "    (13): ResidualBlock(\n",
            "      (main): Sequential(\n",
            "        (0): Conv2d(256, 256, kernel_size=(3, 3), stride=(1, 1), padding=(1, 1), bias=False)\n",
            "        (1): InstanceNorm2d(256, eps=1e-05, momentum=0.1, affine=True, track_running_stats=True)\n",
            "        (2): ReLU(inplace)\n",
            "        (3): Conv2d(256, 256, kernel_size=(3, 3), stride=(1, 1), padding=(1, 1), bias=False)\n",
            "        (4): InstanceNorm2d(256, eps=1e-05, momentum=0.1, affine=True, track_running_stats=True)\n",
            "      )\n",
            "    )\n",
            "    (14): ResidualBlock(\n",
            "      (main): Sequential(\n",
            "        (0): Conv2d(256, 256, kernel_size=(3, 3), stride=(1, 1), padding=(1, 1), bias=False)\n",
            "        (1): InstanceNorm2d(256, eps=1e-05, momentum=0.1, affine=True, track_running_stats=True)\n",
            "        (2): ReLU(inplace)\n",
            "        (3): Conv2d(256, 256, kernel_size=(3, 3), stride=(1, 1), padding=(1, 1), bias=False)\n",
            "        (4): InstanceNorm2d(256, eps=1e-05, momentum=0.1, affine=True, track_running_stats=True)\n",
            "      )\n",
            "    )\n",
            "    (15): ConvTranspose2d(256, 128, kernel_size=(4, 4), stride=(2, 2), padding=(1, 1), bias=False)\n",
            "    (16): InstanceNorm2d(128, eps=1e-05, momentum=0.1, affine=True, track_running_stats=True)\n",
            "    (17): ReLU(inplace)\n",
            "    (18): ConvTranspose2d(128, 64, kernel_size=(4, 4), stride=(2, 2), padding=(1, 1), bias=False)\n",
            "    (19): InstanceNorm2d(64, eps=1e-05, momentum=0.1, affine=True, track_running_stats=True)\n",
            "    (20): ReLU(inplace)\n",
            "    (21): Conv2d(64, 3, kernel_size=(7, 7), stride=(1, 1), padding=(3, 3), bias=False)\n",
            "    (22): Tanh()\n",
            "  )\n",
            ")\n",
            "G\n",
            "The number of parameters: 8436800\n",
            "Discriminator(\n",
            "  (main): Sequential(\n",
            "    (0): Conv2d(3, 64, kernel_size=(4, 4), stride=(2, 2), padding=(1, 1))\n",
            "    (1): LeakyReLU(negative_slope=0.01)\n",
            "    (2): Conv2d(64, 128, kernel_size=(4, 4), stride=(2, 2), padding=(1, 1))\n",
            "    (3): LeakyReLU(negative_slope=0.01)\n",
            "    (4): Conv2d(128, 256, kernel_size=(4, 4), stride=(2, 2), padding=(1, 1))\n",
            "    (5): LeakyReLU(negative_slope=0.01)\n",
            "    (6): Conv2d(256, 512, kernel_size=(4, 4), stride=(2, 2), padding=(1, 1))\n",
            "    (7): LeakyReLU(negative_slope=0.01)\n",
            "    (8): Conv2d(512, 1024, kernel_size=(4, 4), stride=(2, 2), padding=(1, 1))\n",
            "    (9): LeakyReLU(negative_slope=0.01)\n",
            "    (10): Conv2d(1024, 2048, kernel_size=(4, 4), stride=(2, 2), padding=(1, 1))\n",
            "    (11): LeakyReLU(negative_slope=0.01)\n",
            "  )\n",
            "  (conv1): Conv2d(2048, 1, kernel_size=(3, 3), stride=(1, 1), padding=(1, 1), bias=False)\n",
            "  (conv2): Conv2d(2048, 7, kernel_size=(4, 4), stride=(1, 1), bias=False)\n",
            ")\n",
            "D\n",
            "The number of parameters: 44950464\n",
            "Loading the trained models from step 102000...\n",
            "Start training...\n",
            "Elapsed [0:04:12], Iteration [102100/200000], D/loss_real: -1.7700, D/loss_fake: 0.6610, D/loss_cls: 0.0001, D/loss_gp: 0.0067, G/loss_fake: -0.6932, G/loss_rec: 0.0895, G/loss_cls: 0.0000\n",
            "Elapsed [0:08:14], Iteration [102200/200000], D/loss_real: -1.0241, D/loss_fake: -0.0819, D/loss_cls: 0.5191, D/loss_gp: 0.0066, G/loss_fake: -0.3508, G/loss_rec: 0.0960, G/loss_cls: 0.0327\n",
            "Elapsed [0:12:15], Iteration [102300/200000], D/loss_real: -1.5116, D/loss_fake: 0.2689, D/loss_cls: 0.5615, D/loss_gp: 0.0086, G/loss_fake: -0.2392, G/loss_rec: 0.0781, G/loss_cls: 1.6646\n",
            "Elapsed [0:16:16], Iteration [102400/200000], D/loss_real: -2.0808, D/loss_fake: 0.8774, D/loss_cls: 0.0004, D/loss_gp: 0.0059, G/loss_fake: -0.8843, G/loss_rec: 0.0947, G/loss_cls: 0.4599\n",
            "Elapsed [0:20:17], Iteration [102500/200000], D/loss_real: -0.7331, D/loss_fake: -0.4011, D/loss_cls: 0.0009, D/loss_gp: 0.0125, G/loss_fake: 0.1770, G/loss_rec: 0.0857, G/loss_cls: 0.0030\n",
            "Elapsed [0:24:18], Iteration [102600/200000], D/loss_real: -1.6970, D/loss_fake: 0.4184, D/loss_cls: 0.0004, D/loss_gp: 0.0066, G/loss_fake: -0.2750, G/loss_rec: 0.0964, G/loss_cls: 0.0001\n",
            "Elapsed [0:28:18], Iteration [102700/200000], D/loss_real: -1.5855, D/loss_fake: 0.4587, D/loss_cls: 0.0124, D/loss_gp: 0.0079, G/loss_fake: -0.6008, G/loss_rec: 0.1018, G/loss_cls: 0.7972\n",
            "Elapsed [0:32:21], Iteration [102800/200000], D/loss_real: -1.2873, D/loss_fake: 0.2461, D/loss_cls: 0.0061, D/loss_gp: 0.0052, G/loss_fake: -0.3614, G/loss_rec: 0.0840, G/loss_cls: 0.7935\n",
            "Elapsed [0:36:21], Iteration [102900/200000], D/loss_real: -1.9629, D/loss_fake: 1.0211, D/loss_cls: 0.2003, D/loss_gp: 0.0069, G/loss_fake: -1.4693, G/loss_rec: 0.0720, G/loss_cls: 0.0181\n",
            "Elapsed [0:40:22], Iteration [103000/200000], D/loss_real: -0.9510, D/loss_fake: -0.1020, D/loss_cls: 0.0441, D/loss_gp: 0.0083, G/loss_fake: -0.0050, G/loss_rec: 0.0754, G/loss_cls: 0.2329\n",
            "Saved real and fake images into /content/drive/My Drive/Colab Notebooks/stargan/stargan_rafd_256/samples/103000-images.jpg...\n",
            "Saved model checkpoints into /content/drive/My Drive/Colab Notebooks/stargan/stargan_rafd_256/models...\n",
            "Decayed learning rates, g_lr: 9.9999e-05, d_lr: 9.9999e-05.\n",
            "Elapsed [0:44:30], Iteration [103100/200000], D/loss_real: -2.1438, D/loss_fake: 1.0692, D/loss_cls: 0.0001, D/loss_gp: 0.0046, G/loss_fake: -0.9728, G/loss_rec: 0.0748, G/loss_cls: 0.2501\n",
            "Elapsed [0:48:31], Iteration [103200/200000], D/loss_real: -1.5308, D/loss_fake: 0.4660, D/loss_cls: 0.0287, D/loss_gp: 0.0045, G/loss_fake: -0.4785, G/loss_rec: 0.0789, G/loss_cls: 0.0070\n",
            "Elapsed [0:52:32], Iteration [103300/200000], D/loss_real: -1.2270, D/loss_fake: 0.0829, D/loss_cls: 0.0042, D/loss_gp: 0.0050, G/loss_fake: -0.0582, G/loss_rec: 0.0836, G/loss_cls: 0.0078\n",
            "Elapsed [0:56:32], Iteration [103400/200000], D/loss_real: -1.3971, D/loss_fake: 0.3676, D/loss_cls: 0.0009, D/loss_gp: 0.0064, G/loss_fake: -0.3345, G/loss_rec: 0.0757, G/loss_cls: 0.0001\n",
            "Elapsed [1:00:32], Iteration [103500/200000], D/loss_real: -1.4792, D/loss_fake: 0.4537, D/loss_cls: 0.0364, D/loss_gp: 0.0061, G/loss_fake: -0.6158, G/loss_rec: 0.0796, G/loss_cls: 0.6528\n",
            "Elapsed [1:04:33], Iteration [103600/200000], D/loss_real: -1.3911, D/loss_fake: 0.3965, D/loss_cls: 0.0246, D/loss_gp: 0.0097, G/loss_fake: -0.4857, G/loss_rec: 0.0860, G/loss_cls: 0.0075\n",
            "Elapsed [1:08:33], Iteration [103700/200000], D/loss_real: -1.7583, D/loss_fake: 0.7994, D/loss_cls: 0.0010, D/loss_gp: 0.0040, G/loss_fake: -0.4497, G/loss_rec: 0.0833, G/loss_cls: 0.0332\n",
            "Elapsed [1:12:34], Iteration [103800/200000], D/loss_real: -2.1193, D/loss_fake: 0.7173, D/loss_cls: 0.0012, D/loss_gp: 0.0419, G/loss_fake: -0.8504, G/loss_rec: 0.1012, G/loss_cls: 0.0000\n",
            "Elapsed [1:16:35], Iteration [103900/200000], D/loss_real: -1.5769, D/loss_fake: 0.7422, D/loss_cls: 0.0652, D/loss_gp: 0.0076, G/loss_fake: -0.6724, G/loss_rec: 0.0766, G/loss_cls: 0.0000\n",
            "Elapsed [1:20:36], Iteration [104000/200000], D/loss_real: -2.0912, D/loss_fake: 1.0358, D/loss_cls: 0.0034, D/loss_gp: 0.0047, G/loss_fake: -0.9575, G/loss_rec: 0.0697, G/loss_cls: 0.0032\n",
            "Saved real and fake images into /content/drive/My Drive/Colab Notebooks/stargan/stargan_rafd_256/samples/104000-images.jpg...\n",
            "Saved model checkpoints into /content/drive/My Drive/Colab Notebooks/stargan/stargan_rafd_256/models...\n",
            "Decayed learning rates, g_lr: 9.9998e-05, d_lr: 9.9998e-05.\n",
            "Elapsed [1:24:43], Iteration [104100/200000], D/loss_real: -1.5977, D/loss_fake: 0.4414, D/loss_cls: 0.0006, D/loss_gp: 0.0035, G/loss_fake: -0.2061, G/loss_rec: 0.0856, G/loss_cls: 0.0000\n",
            "Elapsed [1:28:44], Iteration [104200/200000], D/loss_real: -1.5868, D/loss_fake: 0.3017, D/loss_cls: 0.4992, D/loss_gp: 0.0098, G/loss_fake: -0.4684, G/loss_rec: 0.0852, G/loss_cls: 0.3006\n",
            "Elapsed [1:32:43], Iteration [104300/200000], D/loss_real: -2.1805, D/loss_fake: 1.1498, D/loss_cls: 0.0005, D/loss_gp: 0.0023, G/loss_fake: -1.1156, G/loss_rec: 0.0679, G/loss_cls: 0.1467\n",
            "Elapsed [1:36:44], Iteration [104400/200000], D/loss_real: -1.5793, D/loss_fake: 0.6190, D/loss_cls: 0.2059, D/loss_gp: 0.0069, G/loss_fake: -0.7781, G/loss_rec: 0.0866, G/loss_cls: 0.0296\n",
            "Elapsed [1:40:45], Iteration [104500/200000], D/loss_real: -0.8323, D/loss_fake: -0.3782, D/loss_cls: 0.0007, D/loss_gp: 0.0103, G/loss_fake: 0.3855, G/loss_rec: 0.0775, G/loss_cls: 0.0058\n",
            "Elapsed [1:44:46], Iteration [104600/200000], D/loss_real: -1.3152, D/loss_fake: 0.2238, D/loss_cls: 0.0003, D/loss_gp: 0.0050, G/loss_fake: -0.0522, G/loss_rec: 0.0785, G/loss_cls: 0.0037\n",
            "Elapsed [1:48:47], Iteration [104700/200000], D/loss_real: -1.8891, D/loss_fake: 0.6945, D/loss_cls: 0.0004, D/loss_gp: 0.0094, G/loss_fake: -0.6227, G/loss_rec: 0.0755, G/loss_cls: 0.0000\n",
            "Elapsed [1:52:48], Iteration [104800/200000], D/loss_real: -1.6602, D/loss_fake: 0.4221, D/loss_cls: 0.0005, D/loss_gp: 0.0078, G/loss_fake: -0.6713, G/loss_rec: 0.0838, G/loss_cls: 0.0005\n",
            "Elapsed [1:56:49], Iteration [104900/200000], D/loss_real: -1.7587, D/loss_fake: 0.7063, D/loss_cls: 0.0925, D/loss_gp: 0.0086, G/loss_fake: -0.6746, G/loss_rec: 0.0786, G/loss_cls: 0.0003\n",
            "Elapsed [2:00:46], Iteration [105000/200000], D/loss_real: -1.4086, D/loss_fake: 0.2121, D/loss_cls: 0.4287, D/loss_gp: 0.0112, G/loss_fake: -0.2935, G/loss_rec: 0.0932, G/loss_cls: 0.0000\n",
            "Saved real and fake images into /content/drive/My Drive/Colab Notebooks/stargan/stargan_rafd_256/samples/105000-images.jpg...\n",
            "Saved model checkpoints into /content/drive/My Drive/Colab Notebooks/stargan/stargan_rafd_256/models...\n",
            "Decayed learning rates, g_lr: 9.9997e-05, d_lr: 9.9997e-05.\n",
            "Elapsed [2:04:53], Iteration [105100/200000], D/loss_real: -2.1382, D/loss_fake: 0.9159, D/loss_cls: 0.0219, D/loss_gp: 0.0049, G/loss_fake: -0.8476, G/loss_rec: 0.0818, G/loss_cls: 0.3836\n",
            "Elapsed [2:08:54], Iteration [105200/200000], D/loss_real: -1.4403, D/loss_fake: 0.3228, D/loss_cls: 0.0014, D/loss_gp: 0.0062, G/loss_fake: -0.2745, G/loss_rec: 0.0731, G/loss_cls: 0.0000\n",
            "Elapsed [2:12:55], Iteration [105300/200000], D/loss_real: -1.5884, D/loss_fake: 0.3300, D/loss_cls: 0.0104, D/loss_gp: 0.0054, G/loss_fake: 0.0172, G/loss_rec: 0.0794, G/loss_cls: 0.5567\n",
            "Elapsed [2:16:55], Iteration [105400/200000], D/loss_real: -1.5794, D/loss_fake: 0.5434, D/loss_cls: 0.2720, D/loss_gp: 0.0088, G/loss_fake: -0.4206, G/loss_rec: 0.0788, G/loss_cls: 0.0000\n",
            "Elapsed [2:20:55], Iteration [105500/200000], D/loss_real: -1.9996, D/loss_fake: 0.8620, D/loss_cls: 0.0087, D/loss_gp: 0.0045, G/loss_fake: -0.7399, G/loss_rec: 0.0776, G/loss_cls: 0.0000\n",
            "Elapsed [2:24:55], Iteration [105600/200000], D/loss_real: -1.8313, D/loss_fake: 0.7551, D/loss_cls: 0.0357, D/loss_gp: 0.0133, G/loss_fake: -0.7241, G/loss_rec: 0.0771, G/loss_cls: 0.6721\n",
            "Elapsed [2:28:55], Iteration [105700/200000], D/loss_real: -1.6714, D/loss_fake: 0.5976, D/loss_cls: 0.0235, D/loss_gp: 0.0081, G/loss_fake: -0.6310, G/loss_rec: 0.0863, G/loss_cls: 0.1072\n",
            "Elapsed [2:32:54], Iteration [105800/200000], D/loss_real: -1.5711, D/loss_fake: 0.4435, D/loss_cls: 0.0004, D/loss_gp: 0.0073, G/loss_fake: -0.5852, G/loss_rec: 0.0795, G/loss_cls: 0.0000\n",
            "Elapsed [2:36:54], Iteration [105900/200000], D/loss_real: -1.8698, D/loss_fake: 0.5792, D/loss_cls: 0.0001, D/loss_gp: 0.0084, G/loss_fake: -0.7417, G/loss_rec: 0.0837, G/loss_cls: 0.0599\n",
            "Elapsed [2:40:55], Iteration [106000/200000], D/loss_real: -1.6463, D/loss_fake: 0.6790, D/loss_cls: 0.0211, D/loss_gp: 0.0026, G/loss_fake: -0.5391, G/loss_rec: 0.0862, G/loss_cls: 1.0301\n",
            "Saved real and fake images into /content/drive/My Drive/Colab Notebooks/stargan/stargan_rafd_256/samples/106000-images.jpg...\n",
            "Saved model checkpoints into /content/drive/My Drive/Colab Notebooks/stargan/stargan_rafd_256/models...\n",
            "Decayed learning rates, g_lr: 9.9996e-05, d_lr: 9.9996e-05.\n",
            "Elapsed [2:45:01], Iteration [106100/200000], D/loss_real: -1.3691, D/loss_fake: -0.0431, D/loss_cls: 0.1657, D/loss_gp: 0.0110, G/loss_fake: -0.0659, G/loss_rec: 0.1079, G/loss_cls: 0.2920\n",
            "Elapsed [2:49:02], Iteration [106200/200000], D/loss_real: -1.5746, D/loss_fake: 0.6288, D/loss_cls: 0.0079, D/loss_gp: 0.0013, G/loss_fake: -0.3860, G/loss_rec: 0.0701, G/loss_cls: 0.0781\n",
            "Elapsed [2:53:02], Iteration [106300/200000], D/loss_real: -1.4280, D/loss_fake: 0.4050, D/loss_cls: 0.0029, D/loss_gp: 0.0049, G/loss_fake: -0.1180, G/loss_rec: 0.0904, G/loss_cls: 0.1432\n",
            "Elapsed [2:57:02], Iteration [106400/200000], D/loss_real: -2.0716, D/loss_fake: 1.0497, D/loss_cls: 0.0122, D/loss_gp: 0.0064, G/loss_fake: -1.1225, G/loss_rec: 0.0909, G/loss_cls: 0.5013\n",
            "Elapsed [3:01:02], Iteration [106500/200000], D/loss_real: -1.7888, D/loss_fake: 0.3149, D/loss_cls: 0.0000, D/loss_gp: 0.0123, G/loss_fake: -0.5569, G/loss_rec: 0.0972, G/loss_cls: 0.0079\n",
            "Elapsed [3:05:02], Iteration [106600/200000], D/loss_real: -1.6763, D/loss_fake: 0.5650, D/loss_cls: 0.0005, D/loss_gp: 0.0056, G/loss_fake: -0.3565, G/loss_rec: 0.0883, G/loss_cls: 0.1950\n",
            "Elapsed [3:09:02], Iteration [106700/200000], D/loss_real: -1.2227, D/loss_fake: 0.0919, D/loss_cls: 0.0238, D/loss_gp: 0.0117, G/loss_fake: -0.0794, G/loss_rec: 0.0779, G/loss_cls: 0.2814\n",
            "Elapsed [3:13:02], Iteration [106800/200000], D/loss_real: -1.9419, D/loss_fake: 0.7305, D/loss_cls: 0.0008, D/loss_gp: 0.0052, G/loss_fake: -0.5940, G/loss_rec: 0.0777, G/loss_cls: 0.0000\n",
            "Elapsed [3:17:02], Iteration [106900/200000], D/loss_real: -1.4278, D/loss_fake: 0.3579, D/loss_cls: 0.0001, D/loss_gp: 0.0060, G/loss_fake: -0.2900, G/loss_rec: 0.0837, G/loss_cls: 0.0002\n",
            "Elapsed [3:21:02], Iteration [107000/200000], D/loss_real: -1.6130, D/loss_fake: 0.5729, D/loss_cls: 0.0021, D/loss_gp: 0.0073, G/loss_fake: -0.5503, G/loss_rec: 0.0773, G/loss_cls: 0.0019\n",
            "Saved real and fake images into /content/drive/My Drive/Colab Notebooks/stargan/stargan_rafd_256/samples/107000-images.jpg...\n",
            "Saved model checkpoints into /content/drive/My Drive/Colab Notebooks/stargan/stargan_rafd_256/models...\n",
            "Decayed learning rates, g_lr: 9.9995e-05, d_lr: 9.9995e-05.\n",
            "Elapsed [3:25:08], Iteration [107100/200000], D/loss_real: -1.3465, D/loss_fake: 0.6014, D/loss_cls: 0.0018, D/loss_gp: 0.0033, G/loss_fake: -0.4364, G/loss_rec: 0.0595, G/loss_cls: 0.6306\n",
            "Elapsed [3:29:08], Iteration [107200/200000], D/loss_real: -1.4052, D/loss_fake: 0.4535, D/loss_cls: 0.0429, D/loss_gp: 0.0053, G/loss_fake: -0.4348, G/loss_rec: 0.0737, G/loss_cls: 0.0336\n",
            "Elapsed [3:33:07], Iteration [107300/200000], D/loss_real: -1.8506, D/loss_fake: 0.8776, D/loss_cls: 0.0002, D/loss_gp: 0.0069, G/loss_fake: -0.8343, G/loss_rec: 0.0798, G/loss_cls: 0.3157\n",
            "Elapsed [3:37:07], Iteration [107400/200000], D/loss_real: -2.0350, D/loss_fake: 1.0925, D/loss_cls: 0.0003, D/loss_gp: 0.0040, G/loss_fake: -0.9524, G/loss_rec: 0.0736, G/loss_cls: 0.0000\n",
            "Elapsed [3:41:07], Iteration [107500/200000], D/loss_real: -1.7890, D/loss_fake: 0.7498, D/loss_cls: 0.3022, D/loss_gp: 0.0055, G/loss_fake: -0.7921, G/loss_rec: 0.0884, G/loss_cls: 0.0002\n",
            "Elapsed [3:45:07], Iteration [107600/200000], D/loss_real: -1.9360, D/loss_fake: 0.8851, D/loss_cls: 0.0004, D/loss_gp: 0.0066, G/loss_fake: -0.7001, G/loss_rec: 0.0903, G/loss_cls: 0.0007\n",
            "Elapsed [3:49:08], Iteration [107700/200000], D/loss_real: -1.7938, D/loss_fake: 0.5970, D/loss_cls: 0.0001, D/loss_gp: 0.0074, G/loss_fake: -0.5163, G/loss_rec: 0.0950, G/loss_cls: 0.0475\n",
            "Elapsed [3:53:09], Iteration [107800/200000], D/loss_real: -1.9900, D/loss_fake: 0.8718, D/loss_cls: 0.0396, D/loss_gp: 0.0065, G/loss_fake: -0.5979, G/loss_rec: 0.0805, G/loss_cls: 0.0000\n",
            "Elapsed [3:57:09], Iteration [107900/200000], D/loss_real: -1.3741, D/loss_fake: 0.2570, D/loss_cls: 0.0023, D/loss_gp: 0.0085, G/loss_fake: -0.2232, G/loss_rec: 0.0994, G/loss_cls: 0.5031\n",
            "Elapsed [4:01:09], Iteration [108000/200000], D/loss_real: -2.3842, D/loss_fake: 0.9823, D/loss_cls: 0.0000, D/loss_gp: 0.0121, G/loss_fake: -1.1564, G/loss_rec: 0.0807, G/loss_cls: 0.0127\n",
            "Saved real and fake images into /content/drive/My Drive/Colab Notebooks/stargan/stargan_rafd_256/samples/108000-images.jpg...\n",
            "Saved model checkpoints into /content/drive/My Drive/Colab Notebooks/stargan/stargan_rafd_256/models...\n",
            "Decayed learning rates, g_lr: 9.999399999999999e-05, d_lr: 9.999399999999999e-05.\n",
            "Elapsed [4:05:16], Iteration [108100/200000], D/loss_real: -1.7012, D/loss_fake: 0.5022, D/loss_cls: 0.0860, D/loss_gp: 0.0110, G/loss_fake: -0.6021, G/loss_rec: 0.0796, G/loss_cls: 0.2233\n",
            "Elapsed [4:09:17], Iteration [108200/200000], D/loss_real: -1.7982, D/loss_fake: 0.7680, D/loss_cls: 0.0003, D/loss_gp: 0.0071, G/loss_fake: -0.6613, G/loss_rec: 0.0794, G/loss_cls: 0.0001\n",
            "Elapsed [4:13:18], Iteration [108300/200000], D/loss_real: -1.7050, D/loss_fake: 0.4516, D/loss_cls: 0.0024, D/loss_gp: 0.0054, G/loss_fake: -0.3384, G/loss_rec: 0.0852, G/loss_cls: 0.2661\n",
            "Elapsed [4:17:18], Iteration [108400/200000], D/loss_real: -2.1486, D/loss_fake: 0.9146, D/loss_cls: 0.0283, D/loss_gp: 0.0142, G/loss_fake: -0.7880, G/loss_rec: 0.0977, G/loss_cls: 0.5285\n",
            "Elapsed [4:21:19], Iteration [108500/200000], D/loss_real: -2.3790, D/loss_fake: 1.3628, D/loss_cls: 0.0049, D/loss_gp: 0.0041, G/loss_fake: -1.2189, G/loss_rec: 0.0758, G/loss_cls: 0.0001\n",
            "Elapsed [4:25:20], Iteration [108600/200000], D/loss_real: -1.6167, D/loss_fake: 0.5734, D/loss_cls: 0.0001, D/loss_gp: 0.0106, G/loss_fake: -0.5895, G/loss_rec: 0.0785, G/loss_cls: 0.0050\n",
            "Elapsed [4:29:16], Iteration [108700/200000], D/loss_real: -1.5889, D/loss_fake: 0.4027, D/loss_cls: 0.0110, D/loss_gp: 0.0068, G/loss_fake: -0.7490, G/loss_rec: 0.1144, G/loss_cls: 0.1831\n",
            "Elapsed [4:33:17], Iteration [108800/200000], D/loss_real: -1.6074, D/loss_fake: 0.5574, D/loss_cls: 0.0232, D/loss_gp: 0.0076, G/loss_fake: -0.3129, G/loss_rec: 0.0654, G/loss_cls: 0.0000\n",
            "Elapsed [4:37:18], Iteration [108900/200000], D/loss_real: -1.4232, D/loss_fake: 0.3802, D/loss_cls: 0.0040, D/loss_gp: 0.0058, G/loss_fake: -0.4100, G/loss_rec: 0.0781, G/loss_cls: 0.2063\n",
            "Elapsed [4:41:19], Iteration [109000/200000], D/loss_real: -1.9867, D/loss_fake: 0.9727, D/loss_cls: 0.0017, D/loss_gp: 0.0081, G/loss_fake: -0.7803, G/loss_rec: 0.0743, G/loss_cls: 0.0013\n",
            "Saved real and fake images into /content/drive/My Drive/Colab Notebooks/stargan/stargan_rafd_256/samples/109000-images.jpg...\n",
            "Saved model checkpoints into /content/drive/My Drive/Colab Notebooks/stargan/stargan_rafd_256/models...\n",
            "Decayed learning rates, g_lr: 9.999299999999999e-05, d_lr: 9.999299999999999e-05.\n",
            "Elapsed [4:45:26], Iteration [109100/200000], D/loss_real: -1.6302, D/loss_fake: 0.5303, D/loss_cls: 0.0201, D/loss_gp: 0.0082, G/loss_fake: -0.6514, G/loss_rec: 0.0825, G/loss_cls: 0.1594\n",
            "Elapsed [4:49:27], Iteration [109200/200000], D/loss_real: -1.7768, D/loss_fake: 0.7830, D/loss_cls: 0.0001, D/loss_gp: 0.0080, G/loss_fake: -0.5855, G/loss_rec: 0.0886, G/loss_cls: 0.0000\n",
            "Elapsed [4:53:28], Iteration [109300/200000], D/loss_real: -2.0815, D/loss_fake: 1.0582, D/loss_cls: 0.0009, D/loss_gp: 0.0109, G/loss_fake: -0.9312, G/loss_rec: 0.0766, G/loss_cls: 0.0703\n",
            "Elapsed [4:57:29], Iteration [109400/200000], D/loss_real: -2.3155, D/loss_fake: 0.9422, D/loss_cls: 0.0017, D/loss_gp: 0.0103, G/loss_fake: -0.7644, G/loss_rec: 0.1110, G/loss_cls: 0.4729\n",
            "Elapsed [5:01:28], Iteration [109500/200000], D/loss_real: -1.6335, D/loss_fake: 0.6718, D/loss_cls: 0.0559, D/loss_gp: 0.0046, G/loss_fake: -0.6432, G/loss_rec: 0.0682, G/loss_cls: 0.0011\n",
            "Elapsed [5:05:29], Iteration [109600/200000], D/loss_real: -1.6175, D/loss_fake: 0.5791, D/loss_cls: 0.0044, D/loss_gp: 0.0070, G/loss_fake: -0.6077, G/loss_rec: 0.0695, G/loss_cls: 0.3922\n",
            "Elapsed [5:09:30], Iteration [109700/200000], D/loss_real: -2.2337, D/loss_fake: 1.1082, D/loss_cls: 0.0015, D/loss_gp: 0.0074, G/loss_fake: -0.9531, G/loss_rec: 0.0996, G/loss_cls: 0.2557\n",
            "Elapsed [5:13:31], Iteration [109800/200000], D/loss_real: -1.8563, D/loss_fake: 0.7690, D/loss_cls: 0.9884, D/loss_gp: 0.0063, G/loss_fake: -1.2716, G/loss_rec: 0.0817, G/loss_cls: 0.2613\n",
            "Elapsed [5:17:32], Iteration [109900/200000], D/loss_real: -1.2061, D/loss_fake: -0.0830, D/loss_cls: 0.0189, D/loss_gp: 0.0100, G/loss_fake: -0.1706, G/loss_rec: 0.0940, G/loss_cls: 0.0391\n",
            "Elapsed [5:21:33], Iteration [110000/200000], D/loss_real: -1.7498, D/loss_fake: 0.7481, D/loss_cls: 0.0038, D/loss_gp: 0.0071, G/loss_fake: -0.6997, G/loss_rec: 0.0952, G/loss_cls: 0.2230\n",
            "Saved real and fake images into /content/drive/My Drive/Colab Notebooks/stargan/stargan_rafd_256/samples/110000-images.jpg...\n",
            "Saved model checkpoints into /content/drive/My Drive/Colab Notebooks/stargan/stargan_rafd_256/models...\n",
            "Decayed learning rates, g_lr: 9.999199999999999e-05, d_lr: 9.999199999999999e-05.\n",
            "Elapsed [5:25:40], Iteration [110100/200000], D/loss_real: -0.8883, D/loss_fake: -0.0863, D/loss_cls: 0.0034, D/loss_gp: 0.0049, G/loss_fake: 0.2013, G/loss_rec: 0.0757, G/loss_cls: 0.0053\n",
            "Elapsed [5:29:40], Iteration [110200/200000], D/loss_real: -2.0962, D/loss_fake: 0.8778, D/loss_cls: 0.0122, D/loss_gp: 0.0115, G/loss_fake: -0.8327, G/loss_rec: 0.0717, G/loss_cls: 0.0247\n",
            "Elapsed [5:33:41], Iteration [110300/200000], D/loss_real: -1.7516, D/loss_fake: 0.7281, D/loss_cls: 0.0000, D/loss_gp: 0.0087, G/loss_fake: -0.6791, G/loss_rec: 0.0685, G/loss_cls: 0.0000\n",
            "Elapsed [5:37:42], Iteration [110400/200000], D/loss_real: -1.2669, D/loss_fake: 0.3883, D/loss_cls: 0.0003, D/loss_gp: 0.0041, G/loss_fake: -0.4082, G/loss_rec: 0.0538, G/loss_cls: 0.0020\n",
            "Elapsed [5:41:43], Iteration [110500/200000], D/loss_real: -2.0107, D/loss_fake: 1.0454, D/loss_cls: 0.0418, D/loss_gp: 0.0052, G/loss_fake: -0.9353, G/loss_rec: 0.0754, G/loss_cls: 0.0707\n",
            "Elapsed [5:45:44], Iteration [110600/200000], D/loss_real: -1.9225, D/loss_fake: 0.8225, D/loss_cls: 0.0057, D/loss_gp: 0.0111, G/loss_fake: -0.5887, G/loss_rec: 0.0813, G/loss_cls: 0.0006\n",
            "Elapsed [5:49:45], Iteration [110700/200000], D/loss_real: -1.9775, D/loss_fake: 0.8940, D/loss_cls: 0.0006, D/loss_gp: 0.0064, G/loss_fake: -0.8362, G/loss_rec: 0.0826, G/loss_cls: 0.0001\n",
            "Elapsed [5:53:46], Iteration [110800/200000], D/loss_real: -1.4349, D/loss_fake: 0.3188, D/loss_cls: 0.0017, D/loss_gp: 0.0057, G/loss_fake: -0.3213, G/loss_rec: 0.0750, G/loss_cls: 0.0000\n",
            "Elapsed [5:57:47], Iteration [110900/200000], D/loss_real: -1.5395, D/loss_fake: 0.3218, D/loss_cls: 0.0001, D/loss_gp: 0.0128, G/loss_fake: -0.4950, G/loss_rec: 0.0871, G/loss_cls: 0.0201\n",
            "Elapsed [6:01:47], Iteration [111000/200000], D/loss_real: -2.1094, D/loss_fake: 1.2152, D/loss_cls: 0.0025, D/loss_gp: 0.0082, G/loss_fake: -1.0601, G/loss_rec: 0.0848, G/loss_cls: 0.9490\n",
            "Saved real and fake images into /content/drive/My Drive/Colab Notebooks/stargan/stargan_rafd_256/samples/111000-images.jpg...\n",
            "Saved model checkpoints into /content/drive/My Drive/Colab Notebooks/stargan/stargan_rafd_256/models...\n",
            "Decayed learning rates, g_lr: 9.999099999999999e-05, d_lr: 9.999099999999999e-05.\n",
            "Elapsed [6:05:53], Iteration [111100/200000], D/loss_real: -1.7826, D/loss_fake: 0.8181, D/loss_cls: 0.0003, D/loss_gp: 0.0062, G/loss_fake: -0.6491, G/loss_rec: 0.0735, G/loss_cls: 0.0027\n",
            "Elapsed [6:09:55], Iteration [111200/200000], D/loss_real: -1.4455, D/loss_fake: 0.6004, D/loss_cls: 0.0001, D/loss_gp: 0.0086, G/loss_fake: -0.4989, G/loss_rec: 0.0736, G/loss_cls: 0.3521\n",
            "Elapsed [6:13:55], Iteration [111300/200000], D/loss_real: -1.8819, D/loss_fake: 0.6583, D/loss_cls: 0.0749, D/loss_gp: 0.0070, G/loss_fake: -0.8235, G/loss_rec: 0.0728, G/loss_cls: 0.0544\n",
            "Elapsed [6:17:56], Iteration [111400/200000], D/loss_real: -1.3643, D/loss_fake: 0.2497, D/loss_cls: 0.0019, D/loss_gp: 0.0104, G/loss_fake: -0.3291, G/loss_rec: 0.0721, G/loss_cls: 0.0022\n",
            "Elapsed [6:21:57], Iteration [111500/200000], D/loss_real: -1.7537, D/loss_fake: 0.7708, D/loss_cls: 0.0000, D/loss_gp: 0.0077, G/loss_fake: -0.6591, G/loss_rec: 0.0782, G/loss_cls: 0.1495\n",
            "Elapsed [6:25:58], Iteration [111600/200000], D/loss_real: -1.3757, D/loss_fake: 0.4374, D/loss_cls: 0.0004, D/loss_gp: 0.0121, G/loss_fake: -0.3954, G/loss_rec: 0.0914, G/loss_cls: 0.0174\n",
            "Elapsed [6:29:58], Iteration [111700/200000], D/loss_real: -1.9759, D/loss_fake: 0.8603, D/loss_cls: 0.0361, D/loss_gp: 0.0117, G/loss_fake: -0.8380, G/loss_rec: 0.0783, G/loss_cls: 0.5345\n",
            "Elapsed [6:33:59], Iteration [111800/200000], D/loss_real: -1.8886, D/loss_fake: 0.6346, D/loss_cls: 0.0018, D/loss_gp: 0.0090, G/loss_fake: -0.4325, G/loss_rec: 0.0829, G/loss_cls: 0.0370\n",
            "Elapsed [6:38:00], Iteration [111900/200000], D/loss_real: -1.6438, D/loss_fake: 0.2490, D/loss_cls: 0.0001, D/loss_gp: 0.0112, G/loss_fake: -0.4718, G/loss_rec: 0.0953, G/loss_cls: 0.0228\n",
            "Elapsed [6:42:01], Iteration [112000/200000], D/loss_real: -1.3639, D/loss_fake: 0.2486, D/loss_cls: 0.1460, D/loss_gp: 0.0046, G/loss_fake: -0.1445, G/loss_rec: 0.0849, G/loss_cls: 0.0017\n",
            "Saved real and fake images into /content/drive/My Drive/Colab Notebooks/stargan/stargan_rafd_256/samples/112000-images.jpg...\n",
            "Saved model checkpoints into /content/drive/My Drive/Colab Notebooks/stargan/stargan_rafd_256/models...\n",
            "Decayed learning rates, g_lr: 9.998999999999998e-05, d_lr: 9.998999999999998e-05.\n",
            "Elapsed [6:46:08], Iteration [112100/200000], D/loss_real: -1.7386, D/loss_fake: 0.6353, D/loss_cls: 0.4929, D/loss_gp: 0.0104, G/loss_fake: -0.9510, G/loss_rec: 0.0795, G/loss_cls: 0.4556\n",
            "Elapsed [6:50:09], Iteration [112200/200000], D/loss_real: -1.5434, D/loss_fake: 0.6291, D/loss_cls: 0.0014, D/loss_gp: 0.0133, G/loss_fake: -0.6169, G/loss_rec: 0.0736, G/loss_cls: 0.2824\n",
            "Elapsed [6:54:10], Iteration [112300/200000], D/loss_real: -1.1567, D/loss_fake: 0.0575, D/loss_cls: 0.0088, D/loss_gp: 0.0047, G/loss_fake: -0.1927, G/loss_rec: 0.0806, G/loss_cls: 0.5711\n",
            "Elapsed [6:58:11], Iteration [112400/200000], D/loss_real: -1.4298, D/loss_fake: 0.3942, D/loss_cls: 0.1441, D/loss_gp: 0.0046, G/loss_fake: -0.2310, G/loss_rec: 0.0837, G/loss_cls: 0.3660\n",
            "Elapsed [7:02:07], Iteration [112500/200000], D/loss_real: -1.2838, D/loss_fake: 0.0745, D/loss_cls: 0.0040, D/loss_gp: 0.0027, G/loss_fake: 0.0306, G/loss_rec: 0.0867, G/loss_cls: 0.0008\n",
            "Elapsed [7:06:08], Iteration [112600/200000], D/loss_real: -1.9653, D/loss_fake: 0.7848, D/loss_cls: 0.0091, D/loss_gp: 0.0065, G/loss_fake: -0.7693, G/loss_rec: 0.0900, G/loss_cls: 0.1902\n",
            "Elapsed [7:10:09], Iteration [112700/200000], D/loss_real: -1.6501, D/loss_fake: 0.2152, D/loss_cls: 0.0438, D/loss_gp: 0.0089, G/loss_fake: -0.0554, G/loss_rec: 0.0988, G/loss_cls: 0.0168\n",
            "Elapsed [7:14:10], Iteration [112800/200000], D/loss_real: -1.9661, D/loss_fake: 0.9311, D/loss_cls: 0.0009, D/loss_gp: 0.0069, G/loss_fake: -0.8722, G/loss_rec: 0.0842, G/loss_cls: 0.0342\n",
            "Elapsed [7:18:11], Iteration [112900/200000], D/loss_real: -2.0716, D/loss_fake: 1.2309, D/loss_cls: 0.0109, D/loss_gp: 0.0136, G/loss_fake: -1.1204, G/loss_rec: 0.0723, G/loss_cls: 0.0017\n",
            "Elapsed [7:22:11], Iteration [113000/200000], D/loss_real: -1.7316, D/loss_fake: 0.7834, D/loss_cls: 0.0003, D/loss_gp: 0.0090, G/loss_fake: -0.7032, G/loss_rec: 0.0791, G/loss_cls: 0.0022\n",
            "Saved real and fake images into /content/drive/My Drive/Colab Notebooks/stargan/stargan_rafd_256/samples/113000-images.jpg...\n",
            "Saved model checkpoints into /content/drive/My Drive/Colab Notebooks/stargan/stargan_rafd_256/models...\n",
            "Decayed learning rates, g_lr: 9.998899999999998e-05, d_lr: 9.998899999999998e-05.\n",
            "Elapsed [7:26:18], Iteration [113100/200000], D/loss_real: -2.3398, D/loss_fake: 1.1190, D/loss_cls: 0.0005, D/loss_gp: 0.0081, G/loss_fake: -1.0200, G/loss_rec: 0.0735, G/loss_cls: 0.1281\n",
            "Elapsed [7:30:18], Iteration [113200/200000], D/loss_real: -2.5059, D/loss_fake: 1.4461, D/loss_cls: 0.1200, D/loss_gp: 0.0071, G/loss_fake: -1.2253, G/loss_rec: 0.0689, G/loss_cls: 0.0231\n",
            "Elapsed [7:34:18], Iteration [113300/200000], D/loss_real: -1.4417, D/loss_fake: 0.3832, D/loss_cls: 0.1383, D/loss_gp: 0.0073, G/loss_fake: -0.3584, G/loss_rec: 0.0877, G/loss_cls: 0.1433\n",
            "Elapsed [7:38:18], Iteration [113400/200000], D/loss_real: -1.5365, D/loss_fake: 0.3270, D/loss_cls: 0.0010, D/loss_gp: 0.0120, G/loss_fake: -0.1077, G/loss_rec: 0.0801, G/loss_cls: 0.0000\n",
            "Elapsed [7:42:18], Iteration [113500/200000], D/loss_real: -1.4639, D/loss_fake: 0.5326, D/loss_cls: 0.0163, D/loss_gp: 0.0023, G/loss_fake: -0.4437, G/loss_rec: 0.0653, G/loss_cls: 0.0646\n",
            "Elapsed [7:46:18], Iteration [113600/200000], D/loss_real: -1.7852, D/loss_fake: 0.5990, D/loss_cls: 0.0616, D/loss_gp: 0.0085, G/loss_fake: -0.5662, G/loss_rec: 0.0914, G/loss_cls: 0.0058\n",
            "Elapsed [7:50:18], Iteration [113700/200000], D/loss_real: -1.6567, D/loss_fake: 0.8231, D/loss_cls: 0.0006, D/loss_gp: 0.0058, G/loss_fake: -0.7109, G/loss_rec: 0.0749, G/loss_cls: 0.3583\n",
            "Elapsed [7:54:18], Iteration [113800/200000], D/loss_real: -1.9897, D/loss_fake: 0.8055, D/loss_cls: 0.0002, D/loss_gp: 0.0038, G/loss_fake: -0.9501, G/loss_rec: 0.0925, G/loss_cls: 0.0279\n",
            "Elapsed [7:58:18], Iteration [113900/200000], D/loss_real: -1.9015, D/loss_fake: 0.7764, D/loss_cls: 0.7255, D/loss_gp: 0.0042, G/loss_fake: -0.7622, G/loss_rec: 0.0855, G/loss_cls: 0.0007\n",
            "Elapsed [8:02:17], Iteration [114000/200000], D/loss_real: -1.2496, D/loss_fake: 0.2123, D/loss_cls: 0.0001, D/loss_gp: 0.0077, G/loss_fake: -0.3288, G/loss_rec: 0.0795, G/loss_cls: 0.0015\n",
            "Saved real and fake images into /content/drive/My Drive/Colab Notebooks/stargan/stargan_rafd_256/samples/114000-images.jpg...\n",
            "Saved model checkpoints into /content/drive/My Drive/Colab Notebooks/stargan/stargan_rafd_256/models...\n",
            "Decayed learning rates, g_lr: 9.998799999999998e-05, d_lr: 9.998799999999998e-05.\n",
            "Elapsed [8:06:23], Iteration [114100/200000], D/loss_real: -2.3767, D/loss_fake: 1.2068, D/loss_cls: 0.0705, D/loss_gp: 0.0178, G/loss_fake: -1.0265, G/loss_rec: 0.0830, G/loss_cls: 0.0000\n",
            "Elapsed [8:10:23], Iteration [114200/200000], D/loss_real: -1.5598, D/loss_fake: 0.4701, D/loss_cls: 0.0003, D/loss_gp: 0.0096, G/loss_fake: -0.5184, G/loss_rec: 0.0809, G/loss_cls: 0.0012\n",
            "Elapsed [8:14:23], Iteration [114300/200000], D/loss_real: -2.4200, D/loss_fake: 1.0382, D/loss_cls: 0.9766, D/loss_gp: 0.0134, G/loss_fake: -1.3210, G/loss_rec: 0.0985, G/loss_cls: 0.0001\n",
            "Elapsed [8:18:23], Iteration [114400/200000], D/loss_real: -1.8467, D/loss_fake: 0.7315, D/loss_cls: 0.0090, D/loss_gp: 0.0045, G/loss_fake: -0.7619, G/loss_rec: 0.0861, G/loss_cls: 0.0053\n",
            "Elapsed [8:22:24], Iteration [114500/200000], D/loss_real: -1.4658, D/loss_fake: 0.2726, D/loss_cls: 0.1665, D/loss_gp: 0.0066, G/loss_fake: -0.3877, G/loss_rec: 0.1025, G/loss_cls: 0.7989\n",
            "Elapsed [8:26:24], Iteration [114600/200000], D/loss_real: -1.5554, D/loss_fake: 0.4355, D/loss_cls: 0.1022, D/loss_gp: 0.0090, G/loss_fake: -0.6947, G/loss_rec: 0.0753, G/loss_cls: 0.0000\n",
            "Elapsed [8:30:23], Iteration [114700/200000], D/loss_real: -1.6539, D/loss_fake: 0.5393, D/loss_cls: 0.0003, D/loss_gp: 0.0032, G/loss_fake: -0.5540, G/loss_rec: 0.0694, G/loss_cls: 1.0961\n",
            "Elapsed [8:34:23], Iteration [114800/200000], D/loss_real: -1.9085, D/loss_fake: 0.9148, D/loss_cls: 0.0000, D/loss_gp: 0.0073, G/loss_fake: -0.9478, G/loss_rec: 0.0922, G/loss_cls: 0.0036\n",
            "Elapsed [8:38:23], Iteration [114900/200000], D/loss_real: -1.8077, D/loss_fake: 0.3654, D/loss_cls: 0.0001, D/loss_gp: 0.0151, G/loss_fake: -0.3724, G/loss_rec: 0.0936, G/loss_cls: 0.0010\n",
            "Elapsed [8:42:23], Iteration [115000/200000], D/loss_real: -1.7610, D/loss_fake: 0.6064, D/loss_cls: 0.0659, D/loss_gp: 0.0029, G/loss_fake: -0.3834, G/loss_rec: 0.0790, G/loss_cls: 0.7762\n",
            "Saved real and fake images into /content/drive/My Drive/Colab Notebooks/stargan/stargan_rafd_256/samples/115000-images.jpg...\n",
            "Saved model checkpoints into /content/drive/My Drive/Colab Notebooks/stargan/stargan_rafd_256/models...\n",
            "Decayed learning rates, g_lr: 9.998699999999998e-05, d_lr: 9.998699999999998e-05.\n",
            "Elapsed [8:46:29], Iteration [115100/200000], D/loss_real: -1.8469, D/loss_fake: 0.6032, D/loss_cls: 0.0055, D/loss_gp: 0.0164, G/loss_fake: -0.7744, G/loss_rec: 0.0875, G/loss_cls: 0.0000\n",
            "Elapsed [8:50:30], Iteration [115200/200000], D/loss_real: -2.0628, D/loss_fake: 0.8374, D/loss_cls: 0.0002, D/loss_gp: 0.0089, G/loss_fake: -0.6796, G/loss_rec: 0.0997, G/loss_cls: 0.0000\n",
            "Elapsed [8:54:30], Iteration [115300/200000], D/loss_real: -2.3353, D/loss_fake: 0.9336, D/loss_cls: 0.0095, D/loss_gp: 0.0134, G/loss_fake: -0.8373, G/loss_rec: 0.0939, G/loss_cls: 0.0000\n",
            "Elapsed [8:58:29], Iteration [115400/200000], D/loss_real: -2.0996, D/loss_fake: 0.7099, D/loss_cls: 0.0425, D/loss_gp: 0.0166, G/loss_fake: -0.6130, G/loss_rec: 0.0913, G/loss_cls: 0.1858\n",
            "Elapsed [9:02:30], Iteration [115500/200000], D/loss_real: -1.8924, D/loss_fake: 0.6785, D/loss_cls: 0.0010, D/loss_gp: 0.0070, G/loss_fake: -0.4787, G/loss_rec: 0.0796, G/loss_cls: 0.9501\n",
            "Elapsed [9:06:30], Iteration [115600/200000], D/loss_real: -1.8588, D/loss_fake: 0.9230, D/loss_cls: 0.0002, D/loss_gp: 0.0038, G/loss_fake: -0.9505, G/loss_rec: 0.0817, G/loss_cls: 0.7389\n",
            "Elapsed [9:10:31], Iteration [115700/200000], D/loss_real: -1.7298, D/loss_fake: 0.7497, D/loss_cls: 0.0000, D/loss_gp: 0.0041, G/loss_fake: -0.7169, G/loss_rec: 0.0623, G/loss_cls: 0.0000\n",
            "Elapsed [9:14:31], Iteration [115800/200000], D/loss_real: -1.4546, D/loss_fake: 0.5689, D/loss_cls: 0.0028, D/loss_gp: 0.0039, G/loss_fake: -0.4348, G/loss_rec: 0.0808, G/loss_cls: 0.3634\n",
            "Elapsed [9:18:32], Iteration [115900/200000], D/loss_real: -2.0475, D/loss_fake: 0.9151, D/loss_cls: 0.0202, D/loss_gp: 0.0053, G/loss_fake: -0.7647, G/loss_rec: 0.0741, G/loss_cls: 0.0547\n",
            "Elapsed [9:22:33], Iteration [116000/200000], D/loss_real: -2.1132, D/loss_fake: 1.0306, D/loss_cls: 0.0040, D/loss_gp: 0.0057, G/loss_fake: -0.9596, G/loss_rec: 0.0892, G/loss_cls: 0.0001\n",
            "Saved real and fake images into /content/drive/My Drive/Colab Notebooks/stargan/stargan_rafd_256/samples/116000-images.jpg...\n",
            "Saved model checkpoints into /content/drive/My Drive/Colab Notebooks/stargan/stargan_rafd_256/models...\n",
            "Decayed learning rates, g_lr: 9.998599999999997e-05, d_lr: 9.998599999999997e-05.\n",
            "Elapsed [9:26:39], Iteration [116100/200000], D/loss_real: -1.7479, D/loss_fake: 0.5712, D/loss_cls: 0.0011, D/loss_gp: 0.0041, G/loss_fake: -0.5311, G/loss_rec: 0.0837, G/loss_cls: 0.0001\n",
            "Elapsed [9:30:35], Iteration [116200/200000], D/loss_real: -1.8305, D/loss_fake: 0.5289, D/loss_cls: 0.0000, D/loss_gp: 0.0137, G/loss_fake: -0.4999, G/loss_rec: 0.1042, G/loss_cls: 0.3362\n",
            "Elapsed [9:34:36], Iteration [116300/200000], D/loss_real: -1.9691, D/loss_fake: 0.9189, D/loss_cls: 0.0044, D/loss_gp: 0.0047, G/loss_fake: -1.0761, G/loss_rec: 0.0702, G/loss_cls: 0.0000\n",
            "Elapsed [9:38:36], Iteration [116400/200000], D/loss_real: -1.3428, D/loss_fake: 0.3729, D/loss_cls: 0.2994, D/loss_gp: 0.0047, G/loss_fake: -0.6215, G/loss_rec: 0.0683, G/loss_cls: 0.0000\n",
            "Elapsed [9:42:37], Iteration [116500/200000], D/loss_real: -1.4929, D/loss_fake: 0.4041, D/loss_cls: 0.0025, D/loss_gp: 0.0095, G/loss_fake: -0.1499, G/loss_rec: 0.0833, G/loss_cls: 0.2493\n",
            "Elapsed [9:46:38], Iteration [116600/200000], D/loss_real: -1.9727, D/loss_fake: 0.8846, D/loss_cls: 0.0001, D/loss_gp: 0.0046, G/loss_fake: -0.8228, G/loss_rec: 0.0723, G/loss_cls: 0.0001\n",
            "Elapsed [9:50:38], Iteration [116700/200000], D/loss_real: -2.0227, D/loss_fake: 0.9066, D/loss_cls: 0.0005, D/loss_gp: 0.0049, G/loss_fake: -0.7292, G/loss_rec: 0.0738, G/loss_cls: 0.0031\n",
            "Elapsed [9:54:39], Iteration [116800/200000], D/loss_real: -1.1895, D/loss_fake: 0.2351, D/loss_cls: 0.0001, D/loss_gp: 0.0039, G/loss_fake: -0.0819, G/loss_rec: 0.0875, G/loss_cls: 0.0210\n",
            "Elapsed [9:58:38], Iteration [116900/200000], D/loss_real: -1.7682, D/loss_fake: 0.6405, D/loss_cls: 0.0001, D/loss_gp: 0.0069, G/loss_fake: -0.6063, G/loss_rec: 0.0716, G/loss_cls: 0.0002\n",
            "Elapsed [10:02:39], Iteration [117000/200000], D/loss_real: -1.5405, D/loss_fake: 0.6107, D/loss_cls: 0.0000, D/loss_gp: 0.0048, G/loss_fake: -0.4245, G/loss_rec: 0.0759, G/loss_cls: 0.0761\n",
            "Saved real and fake images into /content/drive/My Drive/Colab Notebooks/stargan/stargan_rafd_256/samples/117000-images.jpg...\n",
            "Saved model checkpoints into /content/drive/My Drive/Colab Notebooks/stargan/stargan_rafd_256/models...\n",
            "Decayed learning rates, g_lr: 9.998499999999997e-05, d_lr: 9.998499999999997e-05.\n",
            "Elapsed [10:06:45], Iteration [117100/200000], D/loss_real: -1.5185, D/loss_fake: 0.5148, D/loss_cls: 0.0004, D/loss_gp: 0.0039, G/loss_fake: -0.4790, G/loss_rec: 0.0782, G/loss_cls: 0.2172\n",
            "Elapsed [10:10:46], Iteration [117200/200000], D/loss_real: -1.6450, D/loss_fake: 0.6662, D/loss_cls: 0.0464, D/loss_gp: 0.0093, G/loss_fake: -0.7259, G/loss_rec: 0.0690, G/loss_cls: 0.3090\n",
            "Elapsed [10:14:47], Iteration [117300/200000], D/loss_real: -1.9446, D/loss_fake: 0.8436, D/loss_cls: 0.0017, D/loss_gp: 0.0168, G/loss_fake: -0.7398, G/loss_rec: 0.0834, G/loss_cls: 0.0085\n",
            "Elapsed [10:18:48], Iteration [117400/200000], D/loss_real: -1.4763, D/loss_fake: 0.4718, D/loss_cls: 0.0065, D/loss_gp: 0.0166, G/loss_fake: -0.5605, G/loss_rec: 0.0692, G/loss_cls: 0.0001\n",
            "Elapsed [10:22:48], Iteration [117500/200000], D/loss_real: -1.1312, D/loss_fake: 0.0964, D/loss_cls: 0.0025, D/loss_gp: 0.0058, G/loss_fake: -0.2020, G/loss_rec: 0.0692, G/loss_cls: 0.0360\n",
            "Elapsed [10:26:49], Iteration [117600/200000], D/loss_real: -2.3997, D/loss_fake: 1.1284, D/loss_cls: 0.0009, D/loss_gp: 0.0199, G/loss_fake: -0.8951, G/loss_rec: 0.0891, G/loss_cls: 0.0000\n",
            "Elapsed [10:30:48], Iteration [117700/200000], D/loss_real: -2.0218, D/loss_fake: 0.7876, D/loss_cls: 0.1207, D/loss_gp: 0.0125, G/loss_fake: -0.8422, G/loss_rec: 0.0851, G/loss_cls: 0.0063\n",
            "Elapsed [10:34:48], Iteration [117800/200000], D/loss_real: -1.4981, D/loss_fake: 0.5427, D/loss_cls: 0.0029, D/loss_gp: 0.0082, G/loss_fake: -0.6003, G/loss_rec: 0.0686, G/loss_cls: 0.0048\n",
            "Elapsed [10:38:48], Iteration [117900/200000], D/loss_real: -1.5973, D/loss_fake: 0.4760, D/loss_cls: 0.0035, D/loss_gp: 0.0075, G/loss_fake: -0.2217, G/loss_rec: 0.0894, G/loss_cls: 0.0001\n",
            "Elapsed [10:42:49], Iteration [118000/200000], D/loss_real: -1.6352, D/loss_fake: 0.5384, D/loss_cls: 0.0096, D/loss_gp: 0.0029, G/loss_fake: -0.4316, G/loss_rec: 0.0757, G/loss_cls: 0.0153\n",
            "Saved real and fake images into /content/drive/My Drive/Colab Notebooks/stargan/stargan_rafd_256/samples/118000-images.jpg...\n",
            "Saved model checkpoints into /content/drive/My Drive/Colab Notebooks/stargan/stargan_rafd_256/models...\n",
            "Decayed learning rates, g_lr: 9.998399999999997e-05, d_lr: 9.998399999999997e-05.\n",
            "Elapsed [10:46:55], Iteration [118100/200000], D/loss_real: -1.8504, D/loss_fake: 0.9132, D/loss_cls: 0.0004, D/loss_gp: 0.0043, G/loss_fake: -0.9688, G/loss_rec: 0.0799, G/loss_cls: 0.0689\n",
            "Elapsed [10:50:55], Iteration [118200/200000], D/loss_real: -1.8678, D/loss_fake: 0.8683, D/loss_cls: 0.0535, D/loss_gp: 0.0085, G/loss_fake: -0.8377, G/loss_rec: 0.0777, G/loss_cls: 0.5596\n",
            "Elapsed [10:54:55], Iteration [118300/200000], D/loss_real: -1.9308, D/loss_fake: 1.0102, D/loss_cls: 0.0190, D/loss_gp: 0.0088, G/loss_fake: -1.1855, G/loss_rec: 0.0833, G/loss_cls: 0.0041\n",
            "Elapsed [10:58:54], Iteration [118400/200000], D/loss_real: -1.4825, D/loss_fake: 0.3753, D/loss_cls: 0.2879, D/loss_gp: 0.0058, G/loss_fake: -0.6436, G/loss_rec: 0.0960, G/loss_cls: 0.0127\n",
            "Elapsed [11:02:54], Iteration [118500/200000], D/loss_real: -1.3747, D/loss_fake: 0.0979, D/loss_cls: 0.0248, D/loss_gp: 0.0097, G/loss_fake: -0.3999, G/loss_rec: 0.1013, G/loss_cls: 0.7960\n",
            "Elapsed [11:06:54], Iteration [118600/200000], D/loss_real: -1.7310, D/loss_fake: 0.4859, D/loss_cls: 0.0037, D/loss_gp: 0.0095, G/loss_fake: -0.3451, G/loss_rec: 0.0838, G/loss_cls: 0.1093\n",
            "Elapsed [11:10:54], Iteration [118700/200000], D/loss_real: -1.5535, D/loss_fake: 0.4569, D/loss_cls: 0.0000, D/loss_gp: 0.0048, G/loss_fake: -0.3799, G/loss_rec: 0.0789, G/loss_cls: 0.0000\n",
            "Elapsed [11:14:54], Iteration [118800/200000], D/loss_real: -1.6033, D/loss_fake: 0.4789, D/loss_cls: 0.0004, D/loss_gp: 0.0047, G/loss_fake: -0.2423, G/loss_rec: 0.0901, G/loss_cls: 0.0005\n",
            "Elapsed [11:18:55], Iteration [118900/200000], D/loss_real: -1.9933, D/loss_fake: 0.8316, D/loss_cls: 0.0001, D/loss_gp: 0.0086, G/loss_fake: -0.7579, G/loss_rec: 0.0768, G/loss_cls: 0.0000\n",
            "Elapsed [11:22:55], Iteration [119000/200000], D/loss_real: -1.5545, D/loss_fake: 0.6688, D/loss_cls: 0.0452, D/loss_gp: 0.0023, G/loss_fake: -0.5767, G/loss_rec: 0.0812, G/loss_cls: 0.7695\n",
            "Saved real and fake images into /content/drive/My Drive/Colab Notebooks/stargan/stargan_rafd_256/samples/119000-images.jpg...\n",
            "Saved model checkpoints into /content/drive/My Drive/Colab Notebooks/stargan/stargan_rafd_256/models...\n",
            "Decayed learning rates, g_lr: 9.998299999999997e-05, d_lr: 9.998299999999997e-05.\n",
            "Elapsed [11:27:01], Iteration [119100/200000], D/loss_real: -0.5316, D/loss_fake: -0.3096, D/loss_cls: 0.6631, D/loss_gp: 0.0024, G/loss_fake: 0.1009, G/loss_rec: 0.0754, G/loss_cls: 0.0032\n",
            "Elapsed [11:31:01], Iteration [119200/200000], D/loss_real: -1.4090, D/loss_fake: 0.3387, D/loss_cls: 0.0002, D/loss_gp: 0.0049, G/loss_fake: -0.3518, G/loss_rec: 0.0821, G/loss_cls: 0.0740\n",
            "Elapsed [11:35:02], Iteration [119300/200000], D/loss_real: -1.4591, D/loss_fake: 0.4580, D/loss_cls: 0.0222, D/loss_gp: 0.0063, G/loss_fake: -0.5219, G/loss_rec: 0.0990, G/loss_cls: 0.0004\n",
            "Elapsed [11:39:03], Iteration [119400/200000], D/loss_real: -1.9378, D/loss_fake: 0.7189, D/loss_cls: 0.7017, D/loss_gp: 0.0079, G/loss_fake: -0.9012, G/loss_rec: 0.0806, G/loss_cls: 0.0000\n",
            "Elapsed [11:43:03], Iteration [119500/200000], D/loss_real: -1.2188, D/loss_fake: 0.0057, D/loss_cls: 0.1494, D/loss_gp: 0.0061, G/loss_fake: -0.0090, G/loss_rec: 0.0735, G/loss_cls: 0.0059\n",
            "Elapsed [11:47:04], Iteration [119600/200000], D/loss_real: -1.6587, D/loss_fake: 0.5224, D/loss_cls: 0.0097, D/loss_gp: 0.0043, G/loss_fake: -0.3532, G/loss_rec: 0.0892, G/loss_cls: 0.4324\n",
            "Elapsed [11:51:05], Iteration [119700/200000], D/loss_real: -1.7421, D/loss_fake: 0.6550, D/loss_cls: 0.0102, D/loss_gp: 0.0098, G/loss_fake: -0.5921, G/loss_rec: 0.0829, G/loss_cls: 0.3499\n",
            "Elapsed [11:55:05], Iteration [119800/200000], D/loss_real: -1.5973, D/loss_fake: 0.5078, D/loss_cls: 0.0011, D/loss_gp: 0.0095, G/loss_fake: -0.4090, G/loss_rec: 0.0747, G/loss_cls: 0.0407\n",
            "Elapsed [11:59:01], Iteration [119900/200000], D/loss_real: -1.0299, D/loss_fake: 0.1270, D/loss_cls: 0.0001, D/loss_gp: 0.0029, G/loss_fake: 0.0936, G/loss_rec: 0.0715, G/loss_cls: 0.0006\n"
          ],
          "name": "stdout"
        }
      ]
    },
    {
      "metadata": {
        "id": "ceMw3sPgI5dY",
        "colab_type": "code",
        "outputId": "93ea330c-9c65-49ef-c2d3-fc2a4fc4c7db",
        "colab": {
          "base_uri": "https://localhost:8080/",
          "height": 3362
        }
      },
      "cell_type": "code",
      "source": [
        "!python main.py --mode train --dataset RaFD --rafd_image_dir data --image_size 256 --c_dim 7 \\\n",
        "                --sample_dir \"/content/drive/My Drive/Colab Notebooks/stargan/stargan_rafd_256/samples\" \\\n",
        "                --log_dir \"/content/drive/My Drive/Colab Notebooks/stargan/stargan_rafd_256/logs\" \\\n",
        "                --model_save_dir \"/content/drive/My Drive/Colab Notebooks/stargan/stargan_rafd_256/models\" \\\n",
        "                --result_dir \"/content/drive/My Drive/Colab Notebooks/stargan/stargan_rafd_256/results\" \\\n",
        "                 --log_step 100 --sample_step 1000 --model_save_step 1000 --resume_iters 119000"
      ],
      "execution_count": 0,
      "outputs": [
        {
          "output_type": "stream",
          "text": [
            "Namespace(attr_path='data/celeba/list_attr_celeba.txt', batch_size=16, beta1=0.5, beta2=0.999, c2_dim=8, c_dim=7, celeba_crop_size=178, celeba_image_dir='data/celeba/images', d_conv_dim=64, d_lr=0.0001, d_repeat_num=6, dataset='RaFD', g_conv_dim=64, g_lr=0.0001, g_repeat_num=6, image_size=256, lambda_cls=1, lambda_gp=10, lambda_rec=10, log_dir='/content/drive/My Drive/Colab Notebooks/stargan/stargan_rafd_256/logs', log_step=100, lr_update_step=1000, mode='train', model_save_dir='/content/drive/My Drive/Colab Notebooks/stargan/stargan_rafd_256/models', model_save_step=1000, n_critic=5, num_iters=200000, num_iters_decay=100000, num_workers=1, rafd_crop_size=256, rafd_image_dir='data', result_dir='/content/drive/My Drive/Colab Notebooks/stargan/stargan_rafd_256/results', resume_iters=119000, sample_dir='/content/drive/My Drive/Colab Notebooks/stargan/stargan_rafd_256/samples', sample_step=1000, selected_attrs=['Black_Hair', 'Blond_Hair', 'Brown_Hair', 'Male', 'Young'], test_iters=200000, use_tensorboard=True)\n",
            "Generator(\n",
            "  (main): Sequential(\n",
            "    (0): Conv2d(10, 64, kernel_size=(7, 7), stride=(1, 1), padding=(3, 3), bias=False)\n",
            "    (1): InstanceNorm2d(64, eps=1e-05, momentum=0.1, affine=True, track_running_stats=True)\n",
            "    (2): ReLU(inplace)\n",
            "    (3): Conv2d(64, 128, kernel_size=(4, 4), stride=(2, 2), padding=(1, 1), bias=False)\n",
            "    (4): InstanceNorm2d(128, eps=1e-05, momentum=0.1, affine=True, track_running_stats=True)\n",
            "    (5): ReLU(inplace)\n",
            "    (6): Conv2d(128, 256, kernel_size=(4, 4), stride=(2, 2), padding=(1, 1), bias=False)\n",
            "    (7): InstanceNorm2d(256, eps=1e-05, momentum=0.1, affine=True, track_running_stats=True)\n",
            "    (8): ReLU(inplace)\n",
            "    (9): ResidualBlock(\n",
            "      (main): Sequential(\n",
            "        (0): Conv2d(256, 256, kernel_size=(3, 3), stride=(1, 1), padding=(1, 1), bias=False)\n",
            "        (1): InstanceNorm2d(256, eps=1e-05, momentum=0.1, affine=True, track_running_stats=True)\n",
            "        (2): ReLU(inplace)\n",
            "        (3): Conv2d(256, 256, kernel_size=(3, 3), stride=(1, 1), padding=(1, 1), bias=False)\n",
            "        (4): InstanceNorm2d(256, eps=1e-05, momentum=0.1, affine=True, track_running_stats=True)\n",
            "      )\n",
            "    )\n",
            "    (10): ResidualBlock(\n",
            "      (main): Sequential(\n",
            "        (0): Conv2d(256, 256, kernel_size=(3, 3), stride=(1, 1), padding=(1, 1), bias=False)\n",
            "        (1): InstanceNorm2d(256, eps=1e-05, momentum=0.1, affine=True, track_running_stats=True)\n",
            "        (2): ReLU(inplace)\n",
            "        (3): Conv2d(256, 256, kernel_size=(3, 3), stride=(1, 1), padding=(1, 1), bias=False)\n",
            "        (4): InstanceNorm2d(256, eps=1e-05, momentum=0.1, affine=True, track_running_stats=True)\n",
            "      )\n",
            "    )\n",
            "    (11): ResidualBlock(\n",
            "      (main): Sequential(\n",
            "        (0): Conv2d(256, 256, kernel_size=(3, 3), stride=(1, 1), padding=(1, 1), bias=False)\n",
            "        (1): InstanceNorm2d(256, eps=1e-05, momentum=0.1, affine=True, track_running_stats=True)\n",
            "        (2): ReLU(inplace)\n",
            "        (3): Conv2d(256, 256, kernel_size=(3, 3), stride=(1, 1), padding=(1, 1), bias=False)\n",
            "        (4): InstanceNorm2d(256, eps=1e-05, momentum=0.1, affine=True, track_running_stats=True)\n",
            "      )\n",
            "    )\n",
            "    (12): ResidualBlock(\n",
            "      (main): Sequential(\n",
            "        (0): Conv2d(256, 256, kernel_size=(3, 3), stride=(1, 1), padding=(1, 1), bias=False)\n",
            "        (1): InstanceNorm2d(256, eps=1e-05, momentum=0.1, affine=True, track_running_stats=True)\n",
            "        (2): ReLU(inplace)\n",
            "        (3): Conv2d(256, 256, kernel_size=(3, 3), stride=(1, 1), padding=(1, 1), bias=False)\n",
            "        (4): InstanceNorm2d(256, eps=1e-05, momentum=0.1, affine=True, track_running_stats=True)\n",
            "      )\n",
            "    )\n",
            "    (13): ResidualBlock(\n",
            "      (main): Sequential(\n",
            "        (0): Conv2d(256, 256, kernel_size=(3, 3), stride=(1, 1), padding=(1, 1), bias=False)\n",
            "        (1): InstanceNorm2d(256, eps=1e-05, momentum=0.1, affine=True, track_running_stats=True)\n",
            "        (2): ReLU(inplace)\n",
            "        (3): Conv2d(256, 256, kernel_size=(3, 3), stride=(1, 1), padding=(1, 1), bias=False)\n",
            "        (4): InstanceNorm2d(256, eps=1e-05, momentum=0.1, affine=True, track_running_stats=True)\n",
            "      )\n",
            "    )\n",
            "    (14): ResidualBlock(\n",
            "      (main): Sequential(\n",
            "        (0): Conv2d(256, 256, kernel_size=(3, 3), stride=(1, 1), padding=(1, 1), bias=False)\n",
            "        (1): InstanceNorm2d(256, eps=1e-05, momentum=0.1, affine=True, track_running_stats=True)\n",
            "        (2): ReLU(inplace)\n",
            "        (3): Conv2d(256, 256, kernel_size=(3, 3), stride=(1, 1), padding=(1, 1), bias=False)\n",
            "        (4): InstanceNorm2d(256, eps=1e-05, momentum=0.1, affine=True, track_running_stats=True)\n",
            "      )\n",
            "    )\n",
            "    (15): ConvTranspose2d(256, 128, kernel_size=(4, 4), stride=(2, 2), padding=(1, 1), bias=False)\n",
            "    (16): InstanceNorm2d(128, eps=1e-05, momentum=0.1, affine=True, track_running_stats=True)\n",
            "    (17): ReLU(inplace)\n",
            "    (18): ConvTranspose2d(128, 64, kernel_size=(4, 4), stride=(2, 2), padding=(1, 1), bias=False)\n",
            "    (19): InstanceNorm2d(64, eps=1e-05, momentum=0.1, affine=True, track_running_stats=True)\n",
            "    (20): ReLU(inplace)\n",
            "    (21): Conv2d(64, 3, kernel_size=(7, 7), stride=(1, 1), padding=(3, 3), bias=False)\n",
            "    (22): Tanh()\n",
            "  )\n",
            ")\n",
            "G\n",
            "The number of parameters: 8436800\n",
            "Discriminator(\n",
            "  (main): Sequential(\n",
            "    (0): Conv2d(3, 64, kernel_size=(4, 4), stride=(2, 2), padding=(1, 1))\n",
            "    (1): LeakyReLU(negative_slope=0.01)\n",
            "    (2): Conv2d(64, 128, kernel_size=(4, 4), stride=(2, 2), padding=(1, 1))\n",
            "    (3): LeakyReLU(negative_slope=0.01)\n",
            "    (4): Conv2d(128, 256, kernel_size=(4, 4), stride=(2, 2), padding=(1, 1))\n",
            "    (5): LeakyReLU(negative_slope=0.01)\n",
            "    (6): Conv2d(256, 512, kernel_size=(4, 4), stride=(2, 2), padding=(1, 1))\n",
            "    (7): LeakyReLU(negative_slope=0.01)\n",
            "    (8): Conv2d(512, 1024, kernel_size=(4, 4), stride=(2, 2), padding=(1, 1))\n",
            "    (9): LeakyReLU(negative_slope=0.01)\n",
            "    (10): Conv2d(1024, 2048, kernel_size=(4, 4), stride=(2, 2), padding=(1, 1))\n",
            "    (11): LeakyReLU(negative_slope=0.01)\n",
            "  )\n",
            "  (conv1): Conv2d(2048, 1, kernel_size=(3, 3), stride=(1, 1), padding=(1, 1), bias=False)\n",
            "  (conv2): Conv2d(2048, 7, kernel_size=(4, 4), stride=(1, 1), bias=False)\n",
            ")\n",
            "D\n",
            "The number of parameters: 44950464\n",
            "Loading the trained models from step 119000...\n",
            "Start training...\n",
            "Elapsed [0:04:02], Iteration [119100/200000], D/loss_real: -1.1086, D/loss_fake: 0.0299, D/loss_cls: 0.0010, D/loss_gp: 0.0064, G/loss_fake: 0.0506, G/loss_rec: 0.0859, G/loss_cls: 0.0001\n",
            "Elapsed [0:07:52], Iteration [119200/200000], D/loss_real: -1.7521, D/loss_fake: 0.9313, D/loss_cls: 0.0005, D/loss_gp: 0.0038, G/loss_fake: -0.7945, G/loss_rec: 0.0722, G/loss_cls: 2.0088\n",
            "Elapsed [0:11:42], Iteration [119300/200000], D/loss_real: -1.2423, D/loss_fake: 0.3048, D/loss_cls: 0.0094, D/loss_gp: 0.0049, G/loss_fake: -0.2276, G/loss_rec: 0.0686, G/loss_cls: 0.0000\n",
            "Elapsed [0:15:32], Iteration [119400/200000], D/loss_real: -1.4872, D/loss_fake: 0.4897, D/loss_cls: 0.0085, D/loss_gp: 0.0050, G/loss_fake: 0.0106, G/loss_rec: 0.0827, G/loss_cls: 0.1197\n",
            "Elapsed [0:19:22], Iteration [119500/200000], D/loss_real: -2.2330, D/loss_fake: 0.8777, D/loss_cls: 0.0200, D/loss_gp: 0.0191, G/loss_fake: -0.8262, G/loss_rec: 0.0999, G/loss_cls: 0.4834\n",
            "Elapsed [0:23:12], Iteration [119600/200000], D/loss_real: -1.8154, D/loss_fake: 0.7777, D/loss_cls: 0.4465, D/loss_gp: 0.0101, G/loss_fake: -0.9552, G/loss_rec: 0.0758, G/loss_cls: 0.0000\n",
            "Elapsed [0:27:02], Iteration [119700/200000], D/loss_real: -1.4990, D/loss_fake: 0.3725, D/loss_cls: 0.0028, D/loss_gp: 0.0067, G/loss_fake: -0.3040, G/loss_rec: 0.0719, G/loss_cls: 0.0000\n",
            "Elapsed [0:30:53], Iteration [119800/200000], D/loss_real: -1.6798, D/loss_fake: 0.6267, D/loss_cls: 0.0479, D/loss_gp: 0.0028, G/loss_fake: -0.3783, G/loss_rec: 0.0953, G/loss_cls: 0.0314\n",
            "Elapsed [0:34:43], Iteration [119900/200000], D/loss_real: -1.8548, D/loss_fake: 0.8196, D/loss_cls: 0.0002, D/loss_gp: 0.0040, G/loss_fake: -0.8557, G/loss_rec: 0.0844, G/loss_cls: 0.0009\n",
            "Elapsed [0:38:33], Iteration [120000/200000], D/loss_real: -1.7743, D/loss_fake: 0.6277, D/loss_cls: 0.0002, D/loss_gp: 0.0067, G/loss_fake: -0.6302, G/loss_rec: 0.0851, G/loss_cls: 0.0012\n",
            "Saved real and fake images into /content/drive/My Drive/Colab Notebooks/stargan/stargan_rafd_256/samples/120000-images.jpg...\n",
            "Saved model checkpoints into /content/drive/My Drive/Colab Notebooks/stargan/stargan_rafd_256/models...\n",
            "Decayed learning rates, g_lr: 9.9999e-05, d_lr: 9.9999e-05.\n",
            "Elapsed [0:42:30], Iteration [120100/200000], D/loss_real: -1.3431, D/loss_fake: 0.3904, D/loss_cls: 0.0005, D/loss_gp: 0.0039, G/loss_fake: -0.2997, G/loss_rec: 0.0793, G/loss_cls: 0.0371\n",
            "Elapsed [0:46:20], Iteration [120200/200000], D/loss_real: -1.6266, D/loss_fake: 0.3854, D/loss_cls: 0.0002, D/loss_gp: 0.0037, G/loss_fake: -0.3377, G/loss_rec: 0.0923, G/loss_cls: 0.0618\n",
            "Elapsed [0:50:10], Iteration [120300/200000], D/loss_real: -1.0038, D/loss_fake: -0.2214, D/loss_cls: 0.0001, D/loss_gp: 0.0144, G/loss_fake: -0.1583, G/loss_rec: 0.0881, G/loss_cls: 0.0000\n",
            "Elapsed [0:54:00], Iteration [120400/200000], D/loss_real: -1.8671, D/loss_fake: 0.9560, D/loss_cls: 0.0020, D/loss_gp: 0.0042, G/loss_fake: -0.8236, G/loss_rec: 0.0699, G/loss_cls: 0.0026\n",
            "Elapsed [0:57:49], Iteration [120500/200000], D/loss_real: -1.6963, D/loss_fake: 0.6698, D/loss_cls: 0.0048, D/loss_gp: 0.0054, G/loss_fake: -0.6520, G/loss_rec: 0.0736, G/loss_cls: 0.2789\n",
            "Elapsed [1:01:38], Iteration [120600/200000], D/loss_real: -1.4084, D/loss_fake: 0.2741, D/loss_cls: 0.0002, D/loss_gp: 0.0086, G/loss_fake: -0.1712, G/loss_rec: 0.0861, G/loss_cls: 0.0452\n",
            "Elapsed [1:05:28], Iteration [120700/200000], D/loss_real: -1.2889, D/loss_fake: 0.3187, D/loss_cls: 0.0833, D/loss_gp: 0.0070, G/loss_fake: -0.2146, G/loss_rec: 0.0681, G/loss_cls: 0.0000\n",
            "Elapsed [1:09:18], Iteration [120800/200000], D/loss_real: -1.7616, D/loss_fake: 0.7720, D/loss_cls: 0.0002, D/loss_gp: 0.0021, G/loss_fake: -0.8461, G/loss_rec: 0.0838, G/loss_cls: 0.0723\n",
            "Elapsed [1:13:08], Iteration [120900/200000], D/loss_real: -1.2259, D/loss_fake: 0.1172, D/loss_cls: 0.0026, D/loss_gp: 0.0077, G/loss_fake: -0.1052, G/loss_rec: 0.0791, G/loss_cls: 0.0000\n",
            "Elapsed [1:16:58], Iteration [121000/200000], D/loss_real: -1.3426, D/loss_fake: 0.2948, D/loss_cls: 0.0002, D/loss_gp: 0.0082, G/loss_fake: -0.2451, G/loss_rec: 0.0736, G/loss_cls: 0.0000\n",
            "Saved real and fake images into /content/drive/My Drive/Colab Notebooks/stargan/stargan_rafd_256/samples/121000-images.jpg...\n",
            "Saved model checkpoints into /content/drive/My Drive/Colab Notebooks/stargan/stargan_rafd_256/models...\n",
            "Decayed learning rates, g_lr: 9.9998e-05, d_lr: 9.9998e-05.\n",
            "Elapsed [1:20:54], Iteration [121100/200000], D/loss_real: -1.4872, D/loss_fake: 0.5115, D/loss_cls: 0.1176, D/loss_gp: 0.0037, G/loss_fake: -0.4200, G/loss_rec: 0.0780, G/loss_cls: 0.0243\n",
            "Elapsed [1:24:44], Iteration [121200/200000], D/loss_real: -1.3237, D/loss_fake: 0.2821, D/loss_cls: 0.1998, D/loss_gp: 0.0067, G/loss_fake: -0.7523, G/loss_rec: 0.0807, G/loss_cls: 0.5267\n",
            "Elapsed [1:28:32], Iteration [121300/200000], D/loss_real: -1.5561, D/loss_fake: 0.6826, D/loss_cls: 0.0011, D/loss_gp: 0.0028, G/loss_fake: -0.6904, G/loss_rec: 0.0753, G/loss_cls: 0.0001\n",
            "Elapsed [1:32:22], Iteration [121400/200000], D/loss_real: -1.5440, D/loss_fake: 0.7629, D/loss_cls: 0.0040, D/loss_gp: 0.0021, G/loss_fake: -0.5800, G/loss_rec: 0.0803, G/loss_cls: 0.0156\n",
            "Elapsed [1:36:12], Iteration [121500/200000], D/loss_real: -1.2774, D/loss_fake: 0.2113, D/loss_cls: 0.1240, D/loss_gp: 0.0061, G/loss_fake: -0.1451, G/loss_rec: 0.0777, G/loss_cls: 0.0004\n",
            "Elapsed [1:40:02], Iteration [121600/200000], D/loss_real: -1.4062, D/loss_fake: 0.3877, D/loss_cls: 0.0032, D/loss_gp: 0.0056, G/loss_fake: -0.2425, G/loss_rec: 0.0785, G/loss_cls: 0.3152\n",
            "Elapsed [1:43:53], Iteration [121700/200000], D/loss_real: -1.1098, D/loss_fake: 0.0615, D/loss_cls: 0.0002, D/loss_gp: 0.0091, G/loss_fake: -0.0963, G/loss_rec: 0.0826, G/loss_cls: 0.2757\n",
            "Elapsed [1:47:43], Iteration [121800/200000], D/loss_real: -1.6770, D/loss_fake: 0.6182, D/loss_cls: 0.5940, D/loss_gp: 0.0039, G/loss_fake: -0.6351, G/loss_rec: 0.0684, G/loss_cls: 0.0461\n",
            "Elapsed [1:51:33], Iteration [121900/200000], D/loss_real: -2.0061, D/loss_fake: 0.8430, D/loss_cls: 0.0001, D/loss_gp: 0.0080, G/loss_fake: -0.6850, G/loss_rec: 0.0760, G/loss_cls: 0.0000\n",
            "Elapsed [1:55:19], Iteration [122000/200000], D/loss_real: -1.4439, D/loss_fake: 0.3872, D/loss_cls: 0.0402, D/loss_gp: 0.0062, G/loss_fake: -0.5058, G/loss_rec: 0.0726, G/loss_cls: 0.4818\n",
            "Saved real and fake images into /content/drive/My Drive/Colab Notebooks/stargan/stargan_rafd_256/samples/122000-images.jpg...\n",
            "Saved model checkpoints into /content/drive/My Drive/Colab Notebooks/stargan/stargan_rafd_256/models...\n",
            "Decayed learning rates, g_lr: 9.9997e-05, d_lr: 9.9997e-05.\n",
            "Elapsed [1:59:15], Iteration [122100/200000], D/loss_real: -1.5397, D/loss_fake: 0.0876, D/loss_cls: 0.0008, D/loss_gp: 0.0055, G/loss_fake: 0.1448, G/loss_rec: 0.0975, G/loss_cls: 0.2307\n",
            "Elapsed [2:03:05], Iteration [122200/200000], D/loss_real: -1.5331, D/loss_fake: 0.2534, D/loss_cls: 0.0008, D/loss_gp: 0.0082, G/loss_fake: -0.1967, G/loss_rec: 0.0909, G/loss_cls: 0.0005\n",
            "Elapsed [2:06:55], Iteration [122300/200000], D/loss_real: -1.6637, D/loss_fake: 0.3515, D/loss_cls: 0.0001, D/loss_gp: 0.0120, G/loss_fake: -0.2434, G/loss_rec: 0.0875, G/loss_cls: 0.0783\n",
            "Elapsed [2:10:45], Iteration [122400/200000], D/loss_real: -1.8411, D/loss_fake: 0.5841, D/loss_cls: 0.0010, D/loss_gp: 0.0077, G/loss_fake: -0.2937, G/loss_rec: 0.0893, G/loss_cls: 0.0168\n",
            "Elapsed [2:14:33], Iteration [122500/200000], D/loss_real: -2.0537, D/loss_fake: 1.0335, D/loss_cls: 0.0002, D/loss_gp: 0.0044, G/loss_fake: -0.7724, G/loss_rec: 0.0701, G/loss_cls: 0.1236\n",
            "Elapsed [2:18:21], Iteration [122600/200000], D/loss_real: -1.5775, D/loss_fake: 0.6598, D/loss_cls: 0.5694, D/loss_gp: 0.0042, G/loss_fake: -0.7875, G/loss_rec: 0.0703, G/loss_cls: 0.0198\n",
            "Elapsed [2:22:10], Iteration [122700/200000], D/loss_real: -1.7048, D/loss_fake: 0.7483, D/loss_cls: 0.2638, D/loss_gp: 0.0078, G/loss_fake: -0.8046, G/loss_rec: 0.0760, G/loss_cls: 0.2348\n",
            "Elapsed [2:25:56], Iteration [122800/200000], D/loss_real: -1.6971, D/loss_fake: 0.4853, D/loss_cls: 0.0001, D/loss_gp: 0.0090, G/loss_fake: -0.4650, G/loss_rec: 0.0849, G/loss_cls: 0.0127\n",
            "Elapsed [2:29:45], Iteration [122900/200000], D/loss_real: -1.8783, D/loss_fake: 1.0648, D/loss_cls: 0.0001, D/loss_gp: 0.0065, G/loss_fake: -1.0220, G/loss_rec: 0.0502, G/loss_cls: 0.0472\n",
            "Elapsed [2:33:34], Iteration [123000/200000], D/loss_real: -2.2648, D/loss_fake: 1.1563, D/loss_cls: 0.0001, D/loss_gp: 0.0040, G/loss_fake: -1.0852, G/loss_rec: 0.0806, G/loss_cls: 0.3711\n",
            "Saved real and fake images into /content/drive/My Drive/Colab Notebooks/stargan/stargan_rafd_256/samples/123000-images.jpg...\n",
            "Saved model checkpoints into /content/drive/My Drive/Colab Notebooks/stargan/stargan_rafd_256/models...\n",
            "Decayed learning rates, g_lr: 9.9996e-05, d_lr: 9.9996e-05.\n",
            "Elapsed [2:37:30], Iteration [123100/200000], D/loss_real: -1.7789, D/loss_fake: 0.7826, D/loss_cls: 0.0017, D/loss_gp: 0.0154, G/loss_fake: -0.6224, G/loss_rec: 0.0889, G/loss_cls: 0.9555\n",
            "Elapsed [2:41:20], Iteration [123200/200000], D/loss_real: -2.1835, D/loss_fake: 1.0229, D/loss_cls: 0.0002, D/loss_gp: 0.0047, G/loss_fake: -1.0237, G/loss_rec: 0.0767, G/loss_cls: 0.0013\n",
            "Elapsed [2:45:10], Iteration [123300/200000], D/loss_real: -1.5241, D/loss_fake: 0.4437, D/loss_cls: 0.0057, D/loss_gp: 0.0046, G/loss_fake: -0.3210, G/loss_rec: 0.0761, G/loss_cls: 0.0140\n",
            "Elapsed [2:49:00], Iteration [123400/200000], D/loss_real: -1.3983, D/loss_fake: 0.3795, D/loss_cls: 0.2915, D/loss_gp: 0.0082, G/loss_fake: -0.3786, G/loss_rec: 0.0750, G/loss_cls: 0.5616\n",
            "Elapsed [2:52:49], Iteration [123500/200000], D/loss_real: -1.7835, D/loss_fake: 0.9241, D/loss_cls: 0.0001, D/loss_gp: 0.0028, G/loss_fake: -0.8490, G/loss_rec: 0.0573, G/loss_cls: 0.2645\n",
            "Elapsed [2:56:39], Iteration [123600/200000], D/loss_real: -1.8022, D/loss_fake: 0.6034, D/loss_cls: 0.3110, D/loss_gp: 0.0074, G/loss_fake: -1.2638, G/loss_rec: 0.0896, G/loss_cls: 1.1573\n",
            "Elapsed [3:00:29], Iteration [123700/200000], D/loss_real: -1.7199, D/loss_fake: 0.7081, D/loss_cls: 0.1321, D/loss_gp: 0.0045, G/loss_fake: -0.7787, G/loss_rec: 0.0803, G/loss_cls: 0.6237\n",
            "Elapsed [3:04:20], Iteration [123800/200000], D/loss_real: -2.2593, D/loss_fake: 0.9920, D/loss_cls: 0.0084, D/loss_gp: 0.0108, G/loss_fake: -0.6102, G/loss_rec: 0.0785, G/loss_cls: 0.0193\n",
            "Elapsed [3:08:13], Iteration [123900/200000], D/loss_real: -1.6440, D/loss_fake: 0.5382, D/loss_cls: 0.0055, D/loss_gp: 0.0025, G/loss_fake: -0.3293, G/loss_rec: 0.0963, G/loss_cls: 0.0000\n",
            "Elapsed [3:12:06], Iteration [124000/200000], D/loss_real: -1.7454, D/loss_fake: 0.5998, D/loss_cls: 0.0291, D/loss_gp: 0.0051, G/loss_fake: -0.4628, G/loss_rec: 0.0767, G/loss_cls: 0.4915\n",
            "Saved real and fake images into /content/drive/My Drive/Colab Notebooks/stargan/stargan_rafd_256/samples/124000-images.jpg...\n",
            "Saved model checkpoints into /content/drive/My Drive/Colab Notebooks/stargan/stargan_rafd_256/models...\n",
            "Decayed learning rates, g_lr: 9.9995e-05, d_lr: 9.9995e-05.\n",
            "Elapsed [3:16:04], Iteration [124100/200000], D/loss_real: -1.3199, D/loss_fake: 0.1675, D/loss_cls: 0.0002, D/loss_gp: 0.0083, G/loss_fake: -0.1487, G/loss_rec: 0.0828, G/loss_cls: 0.0000\n",
            "Elapsed [3:19:57], Iteration [124200/200000], D/loss_real: -1.9865, D/loss_fake: 0.9367, D/loss_cls: 0.0057, D/loss_gp: 0.0060, G/loss_fake: -0.8782, G/loss_rec: 0.0850, G/loss_cls: 0.3708\n",
            "Elapsed [3:23:48], Iteration [124300/200000], D/loss_real: -1.8477, D/loss_fake: 1.0115, D/loss_cls: 0.0224, D/loss_gp: 0.0092, G/loss_fake: -0.5486, G/loss_rec: 0.0912, G/loss_cls: 0.0017\n",
            "Elapsed [3:27:41], Iteration [124400/200000], D/loss_real: -2.1659, D/loss_fake: 1.1660, D/loss_cls: 0.0060, D/loss_gp: 0.0044, G/loss_fake: -1.1616, G/loss_rec: 0.0836, G/loss_cls: 0.0000\n",
            "Elapsed [3:31:33], Iteration [124500/200000], D/loss_real: -1.8770, D/loss_fake: 0.9279, D/loss_cls: 0.0063, D/loss_gp: 0.0041, G/loss_fake: -0.7031, G/loss_rec: 0.0681, G/loss_cls: 0.0022\n",
            "Elapsed [3:35:22], Iteration [124600/200000], D/loss_real: -1.6223, D/loss_fake: 0.5345, D/loss_cls: 0.8801, D/loss_gp: 0.0048, G/loss_fake: -0.6889, G/loss_rec: 0.0827, G/loss_cls: 0.0815\n",
            "Elapsed [3:39:12], Iteration [124700/200000], D/loss_real: -1.4118, D/loss_fake: 0.2507, D/loss_cls: 0.0124, D/loss_gp: 0.0119, G/loss_fake: -0.2459, G/loss_rec: 0.0934, G/loss_cls: 0.0000\n",
            "Elapsed [3:43:02], Iteration [124800/200000], D/loss_real: -1.6381, D/loss_fake: 0.4854, D/loss_cls: 0.0002, D/loss_gp: 0.0078, G/loss_fake: -0.3817, G/loss_rec: 0.0766, G/loss_cls: 0.0006\n",
            "Elapsed [3:46:52], Iteration [124900/200000], D/loss_real: -2.0279, D/loss_fake: 0.8635, D/loss_cls: 0.1344, D/loss_gp: 0.0057, G/loss_fake: -1.1961, G/loss_rec: 0.0900, G/loss_cls: 0.0049\n",
            "Elapsed [3:50:41], Iteration [125000/200000], D/loss_real: -1.9338, D/loss_fake: 0.9211, D/loss_cls: 0.1986, D/loss_gp: 0.0042, G/loss_fake: -0.9932, G/loss_rec: 0.0682, G/loss_cls: 0.8331\n",
            "Saved real and fake images into /content/drive/My Drive/Colab Notebooks/stargan/stargan_rafd_256/samples/125000-images.jpg...\n",
            "Saved model checkpoints into /content/drive/My Drive/Colab Notebooks/stargan/stargan_rafd_256/models...\n",
            "Decayed learning rates, g_lr: 9.999399999999999e-05, d_lr: 9.999399999999999e-05.\n",
            "Elapsed [3:54:36], Iteration [125100/200000], D/loss_real: -1.9393, D/loss_fake: 0.9339, D/loss_cls: 0.0004, D/loss_gp: 0.0076, G/loss_fake: -0.9126, G/loss_rec: 0.0807, G/loss_cls: 0.0000\n",
            "Elapsed [3:58:26], Iteration [125200/200000], D/loss_real: -1.5702, D/loss_fake: 0.2570, D/loss_cls: 0.0322, D/loss_gp: 0.0077, G/loss_fake: -0.0859, G/loss_rec: 0.0903, G/loss_cls: 0.0000\n",
            "Elapsed [4:02:16], Iteration [125300/200000], D/loss_real: -1.5073, D/loss_fake: 0.4347, D/loss_cls: 0.0152, D/loss_gp: 0.0072, G/loss_fake: -0.3380, G/loss_rec: 0.0846, G/loss_cls: 0.0002\n",
            "Elapsed [4:06:06], Iteration [125400/200000], D/loss_real: -1.7635, D/loss_fake: 0.6637, D/loss_cls: 0.0377, D/loss_gp: 0.0036, G/loss_fake: -0.6250, G/loss_rec: 0.0743, G/loss_cls: 0.0053\n",
            "Elapsed [4:09:56], Iteration [125500/200000], D/loss_real: -1.9569, D/loss_fake: 0.9858, D/loss_cls: 0.0029, D/loss_gp: 0.0029, G/loss_fake: -1.0739, G/loss_rec: 0.0775, G/loss_cls: 0.0000\n",
            "Elapsed [4:13:45], Iteration [125600/200000], D/loss_real: -1.8877, D/loss_fake: 0.8743, D/loss_cls: 0.0136, D/loss_gp: 0.0068, G/loss_fake: -0.8317, G/loss_rec: 0.0854, G/loss_cls: 0.0000\n",
            "Elapsed [4:17:33], Iteration [125700/200000], D/loss_real: -2.0360, D/loss_fake: 0.9173, D/loss_cls: 0.0024, D/loss_gp: 0.0074, G/loss_fake: -0.6298, G/loss_rec: 0.1356, G/loss_cls: 0.4205\n",
            "Elapsed [4:21:26], Iteration [125800/200000], D/loss_real: -2.0873, D/loss_fake: 1.1313, D/loss_cls: 0.2372, D/loss_gp: 0.0030, G/loss_fake: -1.0906, G/loss_rec: 0.0755, G/loss_cls: 0.6699\n",
            "Elapsed [4:25:19], Iteration [125900/200000], D/loss_real: -1.4094, D/loss_fake: 0.5063, D/loss_cls: 0.0010, D/loss_gp: 0.0085, G/loss_fake: -0.4088, G/loss_rec: 0.0740, G/loss_cls: 0.0552\n",
            "Elapsed [4:29:11], Iteration [126000/200000], D/loss_real: -1.4985, D/loss_fake: 0.3155, D/loss_cls: 0.0002, D/loss_gp: 0.0059, G/loss_fake: -0.3698, G/loss_rec: 0.0957, G/loss_cls: 0.0107\n",
            "Saved real and fake images into /content/drive/My Drive/Colab Notebooks/stargan/stargan_rafd_256/samples/126000-images.jpg...\n",
            "Saved model checkpoints into /content/drive/My Drive/Colab Notebooks/stargan/stargan_rafd_256/models...\n",
            "Decayed learning rates, g_lr: 9.999299999999999e-05, d_lr: 9.999299999999999e-05.\n",
            "Elapsed [4:33:07], Iteration [126100/200000], D/loss_real: -1.3089, D/loss_fake: 0.1126, D/loss_cls: 0.0005, D/loss_gp: 0.0136, G/loss_fake: -0.1911, G/loss_rec: 0.0768, G/loss_cls: 0.0001\n",
            "Elapsed [4:36:57], Iteration [126200/200000], D/loss_real: -1.7446, D/loss_fake: 0.8643, D/loss_cls: 0.0039, D/loss_gp: 0.0063, G/loss_fake: -0.7607, G/loss_rec: 0.0798, G/loss_cls: 0.0870\n",
            "Elapsed [4:40:47], Iteration [126300/200000], D/loss_real: -1.2015, D/loss_fake: 0.2531, D/loss_cls: 0.0001, D/loss_gp: 0.0058, G/loss_fake: -0.2717, G/loss_rec: 0.0704, G/loss_cls: 0.2514\n"
          ],
          "name": "stdout"
        }
      ]
    },
    {
      "metadata": {
        "id": "wM3Pxjz5vT1u",
        "colab_type": "code",
        "colab": {}
      },
      "cell_type": "code",
      "source": [
        ""
      ],
      "execution_count": 0,
      "outputs": []
    }
  ]
}